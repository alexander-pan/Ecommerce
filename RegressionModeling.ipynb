{
 "cells": [
  {
   "cell_type": "code",
   "execution_count": 1,
   "metadata": {
    "collapsed": false
   },
   "outputs": [],
   "source": [
    "import numpy as np\n",
    "import pandas as pd\n",
    "import matplotlib.pyplot as plt\n",
    "import math\n",
    "from datetime import datetime as dt, timedelta\n",
    "from sklearn.linear_model import LogisticRegression\n",
    "from sklearn.pipeline import Pipeline\n",
    "from sklearn.model_selection import train_test_split,GridSearchCV,ShuffleSplit\n",
    "from sklearn.preprocessing import OneHotEncoder,LabelEncoder,StandardScaler\n",
    "from sklearn.metrics import confusion_matrix, roc_curve, auc\n",
    "from IPython.display import display, HTML\n",
    "import functions as f\n",
    "\n",
    "#modules for specific application\n",
    "import random\n",
    "\n",
    "#accessing aws data\n",
    "import sys\n",
    "sys.path.append('./utils')\n",
    "from db_utils import DBUtil \n",
    "\n",
    "%matplotlib inline\n",
    "pd.set_option('display.height', 1000)\n",
    "pd.set_option('display.max_rows', 500)\n",
    "pd.set_option('display.max_columns', 500)\n",
    "pd.set_option('display.width', 1000)\n"
   ]
  },
  {
   "cell_type": "code",
   "execution_count": 31,
   "metadata": {
    "collapsed": false
   },
   "outputs": [],
   "source": [
    "#reload functions\n",
    "reload(f);"
   ]
  },
  {
   "cell_type": "code",
   "execution_count": 2,
   "metadata": {
    "collapsed": true
   },
   "outputs": [],
   "source": [
    "#connect to aws\n",
    "dbu = DBUtil(\"komodo_redshift\",\"./databases/database.conf\")"
   ]
  },
  {
   "cell_type": "code",
   "execution_count": 3,
   "metadata": {
    "collapsed": false
   },
   "outputs": [
    {
     "name": "stdout",
     "output_type": "stream",
     "text": [
      "CPU times: user 39.6 s, sys: 1min 57s, total: 2min 36s\n",
      "Wall time: 6min 34s\n"
     ]
    }
   ],
   "source": [
    "%%time\n",
    "query = \"\"\"\n",
    "select * from jjill.jjill_master_data where is_emailable_ind='Y' limit 1000000;\n",
    "\"\"\"\n",
    "df = dbu.get_df_from_query(query)"
   ]
  },
  {
   "cell_type": "code",
   "execution_count": 4,
   "metadata": {
    "collapsed": false
   },
   "outputs": [
    {
     "name": "stdout",
     "output_type": "stream",
     "text": [
      "CPU times: user 41.7 s, sys: 2min 22s, total: 3min 4s\n",
      "Wall time: 8min 31s\n"
     ]
    }
   ],
   "source": [
    "%%time\n",
    "#want customers with orders between may-july\n",
    "query = \"\"\"\n",
    "select * from jjill.jjill_master_data \n",
    "where is_emailable_ind='Y' and\n",
    "department_name in ('Woven Shirts','Knit Tops','Pants','Dresses') and\n",
    "order_date between '2017-01-01' and '2017-05-01'\n",
    "limit 1000000;\n",
    "\"\"\"\n",
    "df1 = dbu.get_df_from_query(query)"
   ]
  },
  {
   "cell_type": "code",
   "execution_count": 4,
   "metadata": {
    "collapsed": true
   },
   "outputs": [],
   "source": [
    "\"filename = './data/Master_Data_Union_2014_2018_B_Recency_Pre2014.txt'\""
   ]
  },
  {
   "cell_type": "code",
   "execution_count": 5,
   "metadata": {
    "collapsed": false
   },
   "outputs": [
    {
     "name": "stdout",
     "output_type": "stream",
     "text": [
      "CPU times: user 4.5 ms, sys: 8.16 ms, total: 12.7 ms\n",
      "Wall time: 37.3 ms\n"
     ]
    }
   ],
   "source": [
    "\"\"\"%%time\n",
    "chunksize = 10**6\n",
    "chunks = pd.read_csv(filename, chunksize=chunksize, sep='|',low_memory=False)\"\"\""
   ]
  },
  {
   "cell_type": "code",
   "execution_count": null,
   "metadata": {
    "collapsed": false
   },
   "outputs": [],
   "source": [
    "%%time\n",
    "#When I can't use AWS\n",
    "#df = chunks.get_chunk(1000000)\n",
    "#df['ILINK'] = df.ILINK.apply(lambda x: f.convertIlink(x))\n",
    "#df = df.loc[df.IS_EMAILABLE_IND=='Y']\n",
    "#df['ORDER_DATE'] = df.ORDER_DATE.apply(lambda x: dt.strptime(x,'%Y-%m-%d'))\n",
    "#df.columns = map(str.upper, df.columns)"
   ]
  },
  {
   "cell_type": "code",
   "execution_count": 108,
   "metadata": {
    "collapsed": false
   },
   "outputs": [],
   "source": [
    "#df1 =  f.getDF(df,'2017-1-1','2017-5-1')"
   ]
  },
  {
   "cell_type": "code",
   "execution_count": 5,
   "metadata": {
    "collapsed": false
   },
   "outputs": [],
   "source": [
    "df1.columns = map(str.upper, df1.columns)\n",
    "df.columns = map(str.upper, df.columns)"
   ]
  },
  {
   "cell_type": "code",
   "execution_count": 6,
   "metadata": {
    "collapsed": false
   },
   "outputs": [
    {
     "name": "stdout",
     "output_type": "stream",
     "text": [
      "Number of unique customers: 182695\n",
      "CPU times: user 1.27 s, sys: 7.01 s, total: 8.27 s\n",
      "Wall time: 17.4 s\n"
     ]
    }
   ],
   "source": [
    "%%time\n",
    "print 'Number of unique customers:', len(df1.ILINK.unique().tolist())\n",
    "ilinks = df1.ILINK.unique().tolist()"
   ]
  },
  {
   "cell_type": "markdown",
   "metadata": {},
   "source": [
    "# Example Customers"
   ]
  },
  {
   "cell_type": "code",
   "execution_count": 105,
   "metadata": {
    "collapsed": false
   },
   "outputs": [],
   "source": [
    "#randomly select customers to use for example\n",
    "customers = []\n",
    "for i in range(100):\n",
    "    customers.append(random.choice(ilinks))"
   ]
  },
  {
   "cell_type": "code",
   "execution_count": 7,
   "metadata": {
    "collapsed": true
   },
   "outputs": [],
   "source": [
    "#customers = ['0000056526']\n",
    "customers=ilinks[:5000]"
   ]
  },
  {
   "cell_type": "markdown",
   "metadata": {},
   "source": [
    "# Build Customer Theta Value"
   ]
  },
  {
   "cell_type": "code",
   "execution_count": 8,
   "metadata": {
    "collapsed": false
   },
   "outputs": [
    {
     "name": "stdout",
     "output_type": "stream",
     "text": [
      "CPU times: user 19min 40s, sys: 45.1 s, total: 20min 25s\n",
      "Wall time: 21min 11s\n"
     ]
    }
   ],
   "source": [
    "%%time\n",
    "#Theta Value based on start-end timeframe\n",
    "UserTheta = f.getCustTheta(customers,df1)"
   ]
  },
  {
   "cell_type": "code",
   "execution_count": 9,
   "metadata": {
    "collapsed": false
   },
   "outputs": [
    {
     "name": "stdout",
     "output_type": "stream",
     "text": [
      "CPU times: user 2.26 s, sys: 13.1 s, total: 15.4 s\n",
      "Wall time: 28.7 s\n"
     ]
    }
   ],
   "source": [
    "%%time\n",
    "DFEXCUST = df.loc[df.ILINK.isin(customers)]\n",
    "DFEXCUST.reset_index(drop=True,inplace=True)"
   ]
  },
  {
   "cell_type": "code",
   "execution_count": 10,
   "metadata": {
    "collapsed": false,
    "scrolled": true
   },
   "outputs": [
    {
     "name": "stdout",
     "output_type": "stream",
     "text": [
      "CPU times: user 4.09 s, sys: 8.18 s, total: 12.3 s\n",
      "Wall time: 15.4 s\n"
     ]
    }
   ],
   "source": [
    "%%time\n",
    "#get indiv month datasets\n",
    "aprildf = f.getDF(DFEXCUST,'2017-4-1','2017-5-1')\n",
    "maydf = f.getDF(DFEXCUST,'2017-5-1','2017-6-1')\n",
    "junedf = f.getDF(DFEXCUST,'2017-6-1','2017-7-1')\n",
    "julydf = f.getDF(DFEXCUST,'2017-7-1','2017-8-1')\n",
    "augdf = f.getDF(DFEXCUST,'2017-8-1','2017-9-1')\n",
    "#septdf = f.getDF(DFEXCUST,'2017-9-1','2017-10-1')\n",
    "#octdf = f.getDF(DFEXCUST,'2017-10-1','2017-11-1')\n",
    "#novdf = f.getDF(DFEXCUST,'2017-11-1','2017-12-1')\n",
    "#decdf = f.getDF(DFEXCUST,'2017-12-1','2018-1-1')"
   ]
  },
  {
   "cell_type": "code",
   "execution_count": 11,
   "metadata": {
    "collapsed": true
   },
   "outputs": [],
   "source": [
    "def checkBuy(N):\n",
    "    if N > 0:\n",
    "        return 1.0\n",
    "    else:\n",
    "        return 0.0"
   ]
  },
  {
   "cell_type": "code",
   "execution_count": 13,
   "metadata": {
    "collapsed": false
   },
   "outputs": [
    {
     "name": "stdout",
     "output_type": "stream",
     "text": [
      "CPU times: user 26min 43s, sys: 47.5 s, total: 27min 30s\n",
      "Wall time: 28min 11s\n"
     ]
    }
   ],
   "source": [
    "%%time\n",
    "columns = ['Ilink','N_ws','S_ws','D_ws','R_ws',\n",
    "           'N_kt','S_kt','D_kt','R_kt',\n",
    "           'N_d','S_d','D_d','R_d',\n",
    "           'N_p','S_p','D_p','R_p']\n",
    "cols = ['Ilink','month','year',\n",
    "           'N_ws','S_ws','D_ws','R_ws','B_ws',\n",
    "           'N_kt','S_kt','D_kt','R_kt', 'B_kt',\n",
    "           'N_d','S_d','D_d','R_d','B_d',\n",
    "           'N_p','S_p','D_p','R_p','B_p']\n",
    "table = pd.DataFrame([],columns=cols)\n",
    "for ilink in customers:\n",
    "    try:\n",
    "        temp = f.getTableRating([ilink],aprildf,columns,UserTheta)\n",
    "        temp.insert(1,'month',value=5)\n",
    "        temp.insert(2,'year',value=2017)\n",
    "        temp.insert(7,'B_ws',value=checkBuy(temp.N_ws.values[0]))\n",
    "        temp.insert(12,'B_kt',value=checkBuy(temp.N_kt.values[0]))\n",
    "        temp.insert(17,'B_d',value=checkBuy(temp.N_d.values[0]))\n",
    "        temp.insert(22,'B_p',value=checkBuy(temp.N_p.values[0]))\n",
    "        table = pd.concat([table,temp])\n",
    "    except:\n",
    "        pass\n",
    "    \n",
    "    try:\n",
    "        temp = f.getTableRating([ilink],maydf,columns,UserTheta)\n",
    "        temp.insert(1,'month',value=6)\n",
    "        temp.insert(2,'year',value=2017)\n",
    "        temp.insert(7,'B_ws',value=checkBuy(temp.N_ws.values[0]))\n",
    "        temp.insert(12,'B_kt',value=checkBuy(temp.N_kt.values[0]))\n",
    "        temp.insert(17,'B_d',value=checkBuy(temp.N_d.values[0]))\n",
    "        temp.insert(22,'B_p',value=checkBuy(temp.N_p.values[0]))\n",
    "        table = pd.concat([table,temp])\n",
    "    except:\n",
    "        pass\n",
    "    try:\n",
    "        temp = f.getTableRating([ilink],junedf,columns,UserTheta)\n",
    "        temp.insert(1,'month',value=7)\n",
    "        temp.insert(2,'year',value=2017)\n",
    "        temp.insert(7,'B_ws',value=checkBuy(temp.N_ws.values[0]))\n",
    "        temp.insert(12,'B_kt',value=checkBuy(temp.N_kt.values[0]))\n",
    "        temp.insert(17,'B_d',value=checkBuy(temp.N_d.values[0]))\n",
    "        temp.insert(22,'B_p',value=checkBuy(temp.N_p.values[0]))\n",
    "        table = pd.concat([table,temp])\n",
    "    except:\n",
    "        pass\n",
    "    \n",
    "    try:\n",
    "        temp = f.getTableRating([ilink],julydf,columns,UserTheta)\n",
    "        temp.insert(1,'month',value=8)\n",
    "        temp.insert(2,'year',value=2017)\n",
    "        temp.insert(7,'B_ws',value=checkBuy(temp.N_ws.values[0]))\n",
    "        temp.insert(12,'B_kt',value=checkBuy(temp.N_kt.values[0]))\n",
    "        temp.insert(17,'B_d',value=checkBuy(temp.N_d.values[0]))\n",
    "        temp.insert(22,'B_p',value=checkBuy(temp.N_p.values[0]))\n",
    "        table = pd.concat([table,temp])\n",
    "    except:\n",
    "        pass\n",
    "    try:\n",
    "        temp = f.getTableRating([ilink],augdf,columns,UserTheta)\n",
    "        temp.insert(1,'month',value=9)\n",
    "        temp.insert(2,'year',value=2017)\n",
    "        temp.insert(7,'B_ws',value=checkBuy(temp.N_ws.values[0]))\n",
    "        temp.insert(12,'B_kt',value=checkBuy(temp.N_kt.values[0]))\n",
    "        temp.insert(17,'B_d',value=checkBuy(temp.N_d.values[0]))\n",
    "        temp.insert(22,'B_p',value=checkBuy(temp.N_p.values[0]))\n",
    "        table = pd.concat([table,temp])\n",
    "    except:\n",
    "        pass\n",
    "\n",
    "table = table[(table[cols[3:]].T != 0).any()]"
   ]
  },
  {
   "cell_type": "code",
   "execution_count": 37,
   "metadata": {
    "collapsed": false
   },
   "outputs": [],
   "source": [
    "#cust = '0000076810'\n",
    "#display(f.getTableRatingV2([cust],maydf,columns))\n",
    "#display(f.getTableRatingV2([cust],junedf,columns))\n",
    "#display(f.getTableRatingV2([cust],julydf,columns))\n",
    "#display(f.getTableRatingV2([cust],augdf,columns))"
   ]
  },
  {
   "cell_type": "code",
   "execution_count": 15,
   "metadata": {
    "collapsed": false
   },
   "outputs": [
    {
     "data": {
      "text/html": [
       "<div>\n",
       "<style scoped>\n",
       "    .dataframe tbody tr th:only-of-type {\n",
       "        vertical-align: middle;\n",
       "    }\n",
       "\n",
       "    .dataframe tbody tr th {\n",
       "        vertical-align: top;\n",
       "    }\n",
       "\n",
       "    .dataframe thead th {\n",
       "        text-align: right;\n",
       "    }\n",
       "</style>\n",
       "<table border=\"1\" class=\"dataframe\">\n",
       "  <thead>\n",
       "    <tr style=\"text-align: right;\">\n",
       "      <th></th>\n",
       "      <th>Ilink</th>\n",
       "      <th>month</th>\n",
       "      <th>year</th>\n",
       "      <th>N_ws</th>\n",
       "      <th>S_ws</th>\n",
       "      <th>D_ws</th>\n",
       "      <th>R_ws</th>\n",
       "      <th>B_ws</th>\n",
       "      <th>N_kt</th>\n",
       "      <th>S_kt</th>\n",
       "      <th>D_kt</th>\n",
       "      <th>R_kt</th>\n",
       "      <th>B_kt</th>\n",
       "      <th>N_d</th>\n",
       "      <th>S_d</th>\n",
       "      <th>D_d</th>\n",
       "      <th>R_d</th>\n",
       "      <th>B_d</th>\n",
       "      <th>N_p</th>\n",
       "      <th>S_p</th>\n",
       "      <th>D_p</th>\n",
       "      <th>R_p</th>\n",
       "      <th>B_p</th>\n",
       "    </tr>\n",
       "  </thead>\n",
       "  <tbody>\n",
       "    <tr>\n",
       "      <th>0</th>\n",
       "      <td>0000000004</td>\n",
       "      <td>6</td>\n",
       "      <td>2017</td>\n",
       "      <td>0</td>\n",
       "      <td>0.00</td>\n",
       "      <td>0.00</td>\n",
       "      <td>0.00</td>\n",
       "      <td>0.0</td>\n",
       "      <td>5</td>\n",
       "      <td>154.57</td>\n",
       "      <td>83.40</td>\n",
       "      <td>0.00</td>\n",
       "      <td>1.0</td>\n",
       "      <td>0</td>\n",
       "      <td>0.0</td>\n",
       "      <td>0.0</td>\n",
       "      <td>0.0</td>\n",
       "      <td>0.0</td>\n",
       "      <td>4</td>\n",
       "      <td>184.58</td>\n",
       "      <td>93.40</td>\n",
       "      <td>0.00</td>\n",
       "      <td>1.0</td>\n",
       "    </tr>\n",
       "    <tr>\n",
       "      <th>0</th>\n",
       "      <td>0000000049</td>\n",
       "      <td>5</td>\n",
       "      <td>2017</td>\n",
       "      <td>0</td>\n",
       "      <td>0.00</td>\n",
       "      <td>0.00</td>\n",
       "      <td>0.00</td>\n",
       "      <td>0.0</td>\n",
       "      <td>0</td>\n",
       "      <td>0.00</td>\n",
       "      <td>0.00</td>\n",
       "      <td>0.00</td>\n",
       "      <td>0.0</td>\n",
       "      <td>0</td>\n",
       "      <td>0.0</td>\n",
       "      <td>0.0</td>\n",
       "      <td>0.0</td>\n",
       "      <td>0.0</td>\n",
       "      <td>1</td>\n",
       "      <td>62.30</td>\n",
       "      <td>26.70</td>\n",
       "      <td>0.53</td>\n",
       "      <td>1.0</td>\n",
       "    </tr>\n",
       "    <tr>\n",
       "      <th>0</th>\n",
       "      <td>0000000049</td>\n",
       "      <td>6</td>\n",
       "      <td>2017</td>\n",
       "      <td>0</td>\n",
       "      <td>0.00</td>\n",
       "      <td>0.00</td>\n",
       "      <td>0.00</td>\n",
       "      <td>0.0</td>\n",
       "      <td>0</td>\n",
       "      <td>0.00</td>\n",
       "      <td>0.00</td>\n",
       "      <td>0.00</td>\n",
       "      <td>0.0</td>\n",
       "      <td>0</td>\n",
       "      <td>0.0</td>\n",
       "      <td>0.0</td>\n",
       "      <td>0.0</td>\n",
       "      <td>0.0</td>\n",
       "      <td>1</td>\n",
       "      <td>0.00</td>\n",
       "      <td>0.00</td>\n",
       "      <td>0.50</td>\n",
       "      <td>1.0</td>\n",
       "    </tr>\n",
       "    <tr>\n",
       "      <th>0</th>\n",
       "      <td>0000000088</td>\n",
       "      <td>5</td>\n",
       "      <td>2017</td>\n",
       "      <td>0</td>\n",
       "      <td>0.00</td>\n",
       "      <td>0.00</td>\n",
       "      <td>0.00</td>\n",
       "      <td>0.0</td>\n",
       "      <td>1</td>\n",
       "      <td>30.80</td>\n",
       "      <td>13.20</td>\n",
       "      <td>0.53</td>\n",
       "      <td>1.0</td>\n",
       "      <td>0</td>\n",
       "      <td>0.0</td>\n",
       "      <td>0.0</td>\n",
       "      <td>0.0</td>\n",
       "      <td>0.0</td>\n",
       "      <td>2</td>\n",
       "      <td>124.60</td>\n",
       "      <td>53.40</td>\n",
       "      <td>0.53</td>\n",
       "      <td>1.0</td>\n",
       "    </tr>\n",
       "    <tr>\n",
       "      <th>0</th>\n",
       "      <td>0000000118</td>\n",
       "      <td>5</td>\n",
       "      <td>2017</td>\n",
       "      <td>1</td>\n",
       "      <td>52.53</td>\n",
       "      <td>26.47</td>\n",
       "      <td>0.11</td>\n",
       "      <td>1.0</td>\n",
       "      <td>5</td>\n",
       "      <td>139.63</td>\n",
       "      <td>70.37</td>\n",
       "      <td>0.61</td>\n",
       "      <td>1.0</td>\n",
       "      <td>0</td>\n",
       "      <td>0.0</td>\n",
       "      <td>0.0</td>\n",
       "      <td>0.0</td>\n",
       "      <td>0.0</td>\n",
       "      <td>5</td>\n",
       "      <td>262.65</td>\n",
       "      <td>132.35</td>\n",
       "      <td>0.54</td>\n",
       "      <td>1.0</td>\n",
       "    </tr>\n",
       "  </tbody>\n",
       "</table>\n",
       "</div>"
      ],
      "text/plain": [
       "        Ilink month  year N_ws   S_ws   D_ws  R_ws  B_ws N_kt    S_kt   D_kt  R_kt  B_kt N_d  S_d  D_d  R_d  B_d N_p     S_p     D_p   R_p  B_p\n",
       "0  0000000004     6  2017    0   0.00   0.00  0.00   0.0    5  154.57  83.40  0.00   1.0   0  0.0  0.0  0.0  0.0   4  184.58   93.40  0.00  1.0\n",
       "0  0000000049     5  2017    0   0.00   0.00  0.00   0.0    0    0.00   0.00  0.00   0.0   0  0.0  0.0  0.0  0.0   1   62.30   26.70  0.53  1.0\n",
       "0  0000000049     6  2017    0   0.00   0.00  0.00   0.0    0    0.00   0.00  0.00   0.0   0  0.0  0.0  0.0  0.0   1    0.00    0.00  0.50  1.0\n",
       "0  0000000088     5  2017    0   0.00   0.00  0.00   0.0    1   30.80  13.20  0.53   1.0   0  0.0  0.0  0.0  0.0   2  124.60   53.40  0.53  1.0\n",
       "0  0000000118     5  2017    1  52.53  26.47  0.11   1.0    5  139.63  70.37  0.61   1.0   0  0.0  0.0  0.0  0.0   5  262.65  132.35  0.54  1.0"
      ]
     },
     "execution_count": 15,
     "metadata": {},
     "output_type": "execute_result"
    }
   ],
   "source": [
    "table.head()"
   ]
  },
  {
   "cell_type": "markdown",
   "metadata": {},
   "source": [
    "# Logistic Regression Ws vs all"
   ]
  },
  {
   "cell_type": "code",
   "execution_count": 16,
   "metadata": {
    "collapsed": false
   },
   "outputs": [],
   "source": [
    "columns_X = ['month','R_ws']\n",
    "X = table[columns_X]\n",
    "y = table['B_ws']"
   ]
  },
  {
   "cell_type": "code",
   "execution_count": 1,
   "metadata": {
    "collapsed": false
   },
   "outputs": [
    {
     "data": {
      "text/plain": [
       "\"%%time\\nX_train,X_test,y_train,y_test = train_test_split(X,y,test_size=.2)\\n\\n#Using Training data, to make validation set. 60-20-20 (training, valid, test)\\ncv = ShuffleSplit(n_splits=50,test_size=.25)\\n\\n#Logisitc Regression\\npipe = Pipeline([['sc',StandardScaler()],\\n                 ['lr',LogisticRegression(penalty='l2',random_state=42)]])\\nparams = [{'lr__C': [.001,.01,1.0,10,100]}]\\ngrid = GridSearchCV(estimator=pipe,\\n                    param_grid=params,\\n                    scoring='roc_auc',\\n                    cv = cv,\\n                    n_jobs=-1)\\n                    \\ngrid.fit(X_train,y_train)\\nprint(grid.best_score_)\\nprint(grid.best_params_)\""
      ]
     },
     "execution_count": 1,
     "metadata": {},
     "output_type": "execute_result"
    }
   ],
   "source": [
    "\"\"\"%%time\n",
    "X_train,X_test,y_train,y_test = train_test_split(X,y,test_size=.2)\n",
    "\n",
    "#Using Training data, to make validation set. 60-20-20 (training, valid, test)\n",
    "cv = ShuffleSplit(n_splits=50,test_size=.25)\n",
    "\n",
    "#Logisitc Regression\n",
    "pipe = Pipeline([['sc',StandardScaler()],\n",
    "                 ['lr',LogisticRegression(penalty='l2',random_state=42)]])\n",
    "params = [{'lr__C': [.001,.01,1.0,10,100]}]\n",
    "grid = GridSearchCV(estimator=pipe,\n",
    "                    param_grid=params,\n",
    "                    scoring='roc_auc',\n",
    "                    cv = cv,\n",
    "                    n_jobs=-1)\n",
    "                    \n",
    "grid.fit(X_train,y_train)\n",
    "print(grid.best_score_)\n",
    "print(grid.best_params_)\"\"\""
   ]
  },
  {
   "cell_type": "code",
   "execution_count": null,
   "metadata": {
    "collapsed": true
   },
   "outputs": [],
   "source": []
  }
 ],
 "metadata": {
  "anaconda-cloud": {},
  "kernelspec": {
   "display_name": "Python [Root]",
   "language": "python",
   "name": "Python [Root]"
  },
  "language_info": {
   "codemirror_mode": {
    "name": "ipython",
    "version": 2
   },
   "file_extension": ".py",
   "mimetype": "text/x-python",
   "name": "python",
   "nbconvert_exporter": "python",
   "pygments_lexer": "ipython2",
   "version": "2.7.12"
  }
 },
 "nbformat": 4,
 "nbformat_minor": 2
}
