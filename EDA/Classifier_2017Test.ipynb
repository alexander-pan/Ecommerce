{
 "cells": [
  {
   "cell_type": "code",
   "execution_count": 1,
   "metadata": {
    "collapsed": false
   },
   "outputs": [],
   "source": [
    "import dill\n",
    "import numpy as np\n",
    "import pandas as pd\n",
    "import matplotlib.pyplot as plt\n",
    "import math\n",
    "from sklearn.linear_model import LogisticRegression\n",
    "from sklearn.ensemble import RandomForestClassifier\n",
    "from sklearn.pipeline import Pipeline\n",
    "from sklearn.model_selection import train_test_split,GridSearchCV,ShuffleSplit\n",
    "from sklearn.preprocessing import OneHotEncoder,LabelEncoder,StandardScaler, Normalizer\n",
    "from sklearn.metrics import confusion_matrix, roc_curve, auc\n",
    "from IPython.display import display, HTML\n",
    "%matplotlib inline\n",
    "pd.set_option('display.height', 1000)\n",
    "pd.set_option('display.max_rows', 500)\n",
    "pd.set_option('display.max_columns', 500)\n",
    "pd.set_option('display.width', 1000)\n",
    "\n",
    "\n",
    "import ModelEvaluation as me"
   ]
  },
  {
   "cell_type": "code",
   "execution_count": 2,
   "metadata": {
    "collapsed": true
   },
   "outputs": [],
   "source": [
    "DFPants = pd.read_pickle('../data/DFPants.pkl')"
   ]
  },
  {
   "cell_type": "code",
   "execution_count": 3,
   "metadata": {
    "collapsed": false
   },
   "outputs": [],
   "source": [
    "DFPants['BOUGHT_2018'] = [1 if x > 0 else 0 for x in DFPants['N_PANTS2018']]"
   ]
  },
  {
   "cell_type": "code",
   "execution_count": 4,
   "metadata": {
    "collapsed": false
   },
   "outputs": [],
   "source": [
    "DFPants.fillna(DFPants.mean(),inplace=True)"
   ]
  },
  {
   "cell_type": "code",
   "execution_count": 5,
   "metadata": {
    "collapsed": false
   },
   "outputs": [
    {
     "name": "stdout",
     "output_type": "stream",
     "text": [
      "(65098, 43)\n"
     ]
    }
   ],
   "source": [
    "print DFPants.shape"
   ]
  },
  {
   "cell_type": "code",
   "execution_count": 6,
   "metadata": {
    "collapsed": false
   },
   "outputs": [],
   "source": [
    "cols = DFPants.columns\n",
    "cols_X = cols[2:-2]\n",
    "cols_y = 'BOUGHT_2018'"
   ]
  },
  {
   "cell_type": "code",
   "execution_count": 11,
   "metadata": {
    "collapsed": false
   },
   "outputs": [
    {
     "data": {
      "text/plain": [
       "Index([u'TOTAL_BOUGHT_2017', u'SHIPPED_SOLD_AMT_2017', u'AVG_SHIPPED_SOLD_AMT_2017', u'STD_SHIPPED_SOLD_AMT_2017', u'VAR_SHIPPED_SOLD_AMT_2017', u'DISCOUNT_2017', u'AVG_DISCOUNT_2017', u'STD_DISCOUNT_2017', u'VAR_DISCOUNT_2017', u'ENDUSE_HAS_CORE_2017', u'ENDUSE_HAS_WEAREVER_2017', u'ENDUSE_HAS_PUREJILL_2017', u'PAYTYPE_HAS_JJC_2017', u'PAYTYPE_HAS_VISA_2017', u'PAYTYPE_HAS_MC_2017', u'PAYTYPE_HAS_AMEX_2017', u'PAYTYPE_HAS_DISC_2017', u'PAYTYPE_HAS_DEBIT_2017', u'PAYTYPE_HAS_CASH_2017', u'PAYTYPE_HAS_CK_2017', u'PAYTYPE_HAS_OTHER_2017', u'FABRICCATEGORY_HAS_COTTON/COTTONBL_2017', u'FABRICCATEGORY_HAS_SYNTHETIC/SYNBLEND_2017', u'FABRICCATEGORY_HAS_LINEN/LINENBL_2017', u'ENDUSE_%_CORE_2017', u'ENDUSE_%_WEAREVER_2017', u'ENDUSE_%_PUREJILL_2017', u'PAYTYPE_%_JJC_2017', u'PAYTYPE_%_VISA_2017', u'PAYTYPE_%_MC_2017', u'PAYTYPE_%_AMEX_2017', u'PAYTYPE_%_DISC_2017', u'PAYTYPE_%_DEBIT_2017', u'PAYTYPE_%_CASH_2017', u'PAYTYPE_%_CK_2017', u'PAYTYPE_%_OTHER_2017',\n",
       "       u'FABRICCATEGORY_%_COTTON/COTTONBL_2017', u'FABRICCATEGORY_%_SYNTHETIC/SYNBLEND_2017', u'FABRICCATEGORY_%_LINEN/LINENBL_2017'],\n",
       "      dtype='object')"
      ]
     },
     "execution_count": 11,
     "metadata": {},
     "output_type": "execute_result"
    }
   ],
   "source": [
    "cols_X"
   ]
  },
  {
   "cell_type": "code",
   "execution_count": 9,
   "metadata": {
    "collapsed": false
   },
   "outputs": [
    {
     "data": {
      "text/html": [
       "<div>\n",
       "<style scoped>\n",
       "    .dataframe tbody tr th:only-of-type {\n",
       "        vertical-align: middle;\n",
       "    }\n",
       "\n",
       "    .dataframe tbody tr th {\n",
       "        vertical-align: top;\n",
       "    }\n",
       "\n",
       "    .dataframe thead th {\n",
       "        text-align: right;\n",
       "    }\n",
       "</style>\n",
       "<table border=\"1\" class=\"dataframe\">\n",
       "  <thead>\n",
       "    <tr style=\"text-align: right;\">\n",
       "      <th></th>\n",
       "      <th>ILINK</th>\n",
       "      <th>DEPARTMENT_NAME</th>\n",
       "      <th>TOTAL_BOUGHT_2017</th>\n",
       "      <th>SHIPPED_SOLD_AMT_2017</th>\n",
       "      <th>AVG_SHIPPED_SOLD_AMT_2017</th>\n",
       "      <th>STD_SHIPPED_SOLD_AMT_2017</th>\n",
       "      <th>VAR_SHIPPED_SOLD_AMT_2017</th>\n",
       "      <th>DISCOUNT_2017</th>\n",
       "      <th>AVG_DISCOUNT_2017</th>\n",
       "      <th>STD_DISCOUNT_2017</th>\n",
       "      <th>VAR_DISCOUNT_2017</th>\n",
       "      <th>ENDUSE_HAS_CORE_2017</th>\n",
       "      <th>ENDUSE_HAS_WEAREVER_2017</th>\n",
       "      <th>ENDUSE_HAS_PUREJILL_2017</th>\n",
       "      <th>PAYTYPE_HAS_JJC_2017</th>\n",
       "      <th>PAYTYPE_HAS_VISA_2017</th>\n",
       "      <th>PAYTYPE_HAS_MC_2017</th>\n",
       "      <th>PAYTYPE_HAS_AMEX_2017</th>\n",
       "      <th>PAYTYPE_HAS_DISC_2017</th>\n",
       "      <th>PAYTYPE_HAS_DEBIT_2017</th>\n",
       "      <th>PAYTYPE_HAS_CASH_2017</th>\n",
       "      <th>PAYTYPE_HAS_CK_2017</th>\n",
       "      <th>PAYTYPE_HAS_OTHER_2017</th>\n",
       "      <th>FABRICCATEGORY_HAS_COTTON/COTTONBL_2017</th>\n",
       "      <th>FABRICCATEGORY_HAS_SYNTHETIC/SYNBLEND_2017</th>\n",
       "      <th>FABRICCATEGORY_HAS_LINEN/LINENBL_2017</th>\n",
       "      <th>ENDUSE_%_CORE_2017</th>\n",
       "      <th>ENDUSE_%_WEAREVER_2017</th>\n",
       "      <th>ENDUSE_%_PUREJILL_2017</th>\n",
       "      <th>PAYTYPE_%_JJC_2017</th>\n",
       "      <th>PAYTYPE_%_VISA_2017</th>\n",
       "      <th>PAYTYPE_%_MC_2017</th>\n",
       "      <th>PAYTYPE_%_AMEX_2017</th>\n",
       "      <th>PAYTYPE_%_DISC_2017</th>\n",
       "      <th>PAYTYPE_%_DEBIT_2017</th>\n",
       "      <th>PAYTYPE_%_CASH_2017</th>\n",
       "      <th>PAYTYPE_%_CK_2017</th>\n",
       "      <th>PAYTYPE_%_OTHER_2017</th>\n",
       "      <th>FABRICCATEGORY_%_COTTON/COTTONBL_2017</th>\n",
       "      <th>FABRICCATEGORY_%_SYNTHETIC/SYNBLEND_2017</th>\n",
       "      <th>FABRICCATEGORY_%_LINEN/LINENBL_2017</th>\n",
       "      <th>N_PANTS2018</th>\n",
       "      <th>BOUGHT_2018</th>\n",
       "    </tr>\n",
       "  </thead>\n",
       "  <tbody>\n",
       "    <tr>\n",
       "      <th>0</th>\n",
       "      <td>0000000004</td>\n",
       "      <td>Pants</td>\n",
       "      <td>9.0</td>\n",
       "      <td>378.84</td>\n",
       "      <td>42.093333</td>\n",
       "      <td>15.642059</td>\n",
       "      <td>244.674025</td>\n",
       "      <td>208.10</td>\n",
       "      <td>23.122222</td>\n",
       "      <td>3.723835</td>\n",
       "      <td>13.866944</td>\n",
       "      <td>1.0</td>\n",
       "      <td>1.0</td>\n",
       "      <td>0.0</td>\n",
       "      <td>0.0</td>\n",
       "      <td>0.0</td>\n",
       "      <td>1.0</td>\n",
       "      <td>0.0</td>\n",
       "      <td>0.0</td>\n",
       "      <td>0.0</td>\n",
       "      <td>0.0</td>\n",
       "      <td>0.0</td>\n",
       "      <td>0.0</td>\n",
       "      <td>0.0</td>\n",
       "      <td>1.0</td>\n",
       "      <td>0.0</td>\n",
       "      <td>0.556</td>\n",
       "      <td>0.444</td>\n",
       "      <td>0.000</td>\n",
       "      <td>0.0</td>\n",
       "      <td>0.0</td>\n",
       "      <td>1.0</td>\n",
       "      <td>0.0</td>\n",
       "      <td>0.0</td>\n",
       "      <td>0.0</td>\n",
       "      <td>0.0</td>\n",
       "      <td>0.0</td>\n",
       "      <td>0.0</td>\n",
       "      <td>0.000</td>\n",
       "      <td>0.444</td>\n",
       "      <td>0.0</td>\n",
       "      <td>0.0</td>\n",
       "      <td>0</td>\n",
       "    </tr>\n",
       "    <tr>\n",
       "      <th>3</th>\n",
       "      <td>0000000023</td>\n",
       "      <td>Pants</td>\n",
       "      <td>1.0</td>\n",
       "      <td>27.99</td>\n",
       "      <td>27.990000</td>\n",
       "      <td>12.858436</td>\n",
       "      <td>245.052252</td>\n",
       "      <td>12.00</td>\n",
       "      <td>12.000000</td>\n",
       "      <td>7.279993</td>\n",
       "      <td>77.617958</td>\n",
       "      <td>1.0</td>\n",
       "      <td>0.0</td>\n",
       "      <td>0.0</td>\n",
       "      <td>0.0</td>\n",
       "      <td>0.0</td>\n",
       "      <td>0.0</td>\n",
       "      <td>0.0</td>\n",
       "      <td>0.0</td>\n",
       "      <td>0.0</td>\n",
       "      <td>1.0</td>\n",
       "      <td>0.0</td>\n",
       "      <td>0.0</td>\n",
       "      <td>1.0</td>\n",
       "      <td>0.0</td>\n",
       "      <td>0.0</td>\n",
       "      <td>1.000</td>\n",
       "      <td>0.000</td>\n",
       "      <td>0.000</td>\n",
       "      <td>0.0</td>\n",
       "      <td>0.0</td>\n",
       "      <td>0.0</td>\n",
       "      <td>0.0</td>\n",
       "      <td>0.0</td>\n",
       "      <td>0.0</td>\n",
       "      <td>1.0</td>\n",
       "      <td>0.0</td>\n",
       "      <td>0.0</td>\n",
       "      <td>1.000</td>\n",
       "      <td>0.000</td>\n",
       "      <td>0.0</td>\n",
       "      <td>0.0</td>\n",
       "      <td>0</td>\n",
       "    </tr>\n",
       "    <tr>\n",
       "      <th>7</th>\n",
       "      <td>0000000049</td>\n",
       "      <td>Pants</td>\n",
       "      <td>3.0</td>\n",
       "      <td>123.32</td>\n",
       "      <td>41.106667</td>\n",
       "      <td>35.605170</td>\n",
       "      <td>1267.728133</td>\n",
       "      <td>54.68</td>\n",
       "      <td>18.226667</td>\n",
       "      <td>15.797726</td>\n",
       "      <td>249.568133</td>\n",
       "      <td>1.0</td>\n",
       "      <td>0.0</td>\n",
       "      <td>0.0</td>\n",
       "      <td>0.0</td>\n",
       "      <td>0.0</td>\n",
       "      <td>0.0</td>\n",
       "      <td>1.0</td>\n",
       "      <td>0.0</td>\n",
       "      <td>0.0</td>\n",
       "      <td>0.0</td>\n",
       "      <td>0.0</td>\n",
       "      <td>0.0</td>\n",
       "      <td>0.0</td>\n",
       "      <td>0.0</td>\n",
       "      <td>0.0</td>\n",
       "      <td>1.000</td>\n",
       "      <td>0.000</td>\n",
       "      <td>0.000</td>\n",
       "      <td>0.0</td>\n",
       "      <td>0.0</td>\n",
       "      <td>0.0</td>\n",
       "      <td>1.0</td>\n",
       "      <td>0.0</td>\n",
       "      <td>0.0</td>\n",
       "      <td>0.0</td>\n",
       "      <td>0.0</td>\n",
       "      <td>0.0</td>\n",
       "      <td>0.000</td>\n",
       "      <td>0.000</td>\n",
       "      <td>0.0</td>\n",
       "      <td>0.0</td>\n",
       "      <td>0</td>\n",
       "    </tr>\n",
       "    <tr>\n",
       "      <th>9</th>\n",
       "      <td>0000000088</td>\n",
       "      <td>Pants</td>\n",
       "      <td>2.0</td>\n",
       "      <td>124.60</td>\n",
       "      <td>62.300000</td>\n",
       "      <td>0.000000</td>\n",
       "      <td>0.000000</td>\n",
       "      <td>53.40</td>\n",
       "      <td>26.700000</td>\n",
       "      <td>0.000000</td>\n",
       "      <td>0.000000</td>\n",
       "      <td>1.0</td>\n",
       "      <td>0.0</td>\n",
       "      <td>0.0</td>\n",
       "      <td>0.0</td>\n",
       "      <td>0.0</td>\n",
       "      <td>0.0</td>\n",
       "      <td>0.0</td>\n",
       "      <td>0.0</td>\n",
       "      <td>1.0</td>\n",
       "      <td>0.0</td>\n",
       "      <td>0.0</td>\n",
       "      <td>0.0</td>\n",
       "      <td>1.0</td>\n",
       "      <td>0.0</td>\n",
       "      <td>0.0</td>\n",
       "      <td>1.000</td>\n",
       "      <td>0.000</td>\n",
       "      <td>0.000</td>\n",
       "      <td>0.0</td>\n",
       "      <td>0.0</td>\n",
       "      <td>0.0</td>\n",
       "      <td>0.0</td>\n",
       "      <td>0.0</td>\n",
       "      <td>1.0</td>\n",
       "      <td>0.0</td>\n",
       "      <td>0.0</td>\n",
       "      <td>0.0</td>\n",
       "      <td>1.000</td>\n",
       "      <td>0.000</td>\n",
       "      <td>0.0</td>\n",
       "      <td>0.0</td>\n",
       "      <td>0</td>\n",
       "    </tr>\n",
       "    <tr>\n",
       "      <th>11</th>\n",
       "      <td>0000000118</td>\n",
       "      <td>Pants</td>\n",
       "      <td>8.0</td>\n",
       "      <td>393.64</td>\n",
       "      <td>49.205000</td>\n",
       "      <td>10.663724</td>\n",
       "      <td>113.715000</td>\n",
       "      <td>198.36</td>\n",
       "      <td>24.795000</td>\n",
       "      <td>5.371951</td>\n",
       "      <td>28.857857</td>\n",
       "      <td>1.0</td>\n",
       "      <td>0.0</td>\n",
       "      <td>1.0</td>\n",
       "      <td>1.0</td>\n",
       "      <td>0.0</td>\n",
       "      <td>0.0</td>\n",
       "      <td>0.0</td>\n",
       "      <td>0.0</td>\n",
       "      <td>0.0</td>\n",
       "      <td>0.0</td>\n",
       "      <td>0.0</td>\n",
       "      <td>0.0</td>\n",
       "      <td>1.0</td>\n",
       "      <td>0.0</td>\n",
       "      <td>0.0</td>\n",
       "      <td>0.875</td>\n",
       "      <td>0.000</td>\n",
       "      <td>0.125</td>\n",
       "      <td>1.0</td>\n",
       "      <td>0.0</td>\n",
       "      <td>0.0</td>\n",
       "      <td>0.0</td>\n",
       "      <td>0.0</td>\n",
       "      <td>0.0</td>\n",
       "      <td>0.0</td>\n",
       "      <td>0.0</td>\n",
       "      <td>0.0</td>\n",
       "      <td>0.375</td>\n",
       "      <td>0.000</td>\n",
       "      <td>0.0</td>\n",
       "      <td>1.0</td>\n",
       "      <td>1</td>\n",
       "    </tr>\n",
       "  </tbody>\n",
       "</table>\n",
       "</div>"
      ],
      "text/plain": [
       "         ILINK DEPARTMENT_NAME  TOTAL_BOUGHT_2017  SHIPPED_SOLD_AMT_2017  AVG_SHIPPED_SOLD_AMT_2017  STD_SHIPPED_SOLD_AMT_2017  VAR_SHIPPED_SOLD_AMT_2017  DISCOUNT_2017  AVG_DISCOUNT_2017  STD_DISCOUNT_2017  VAR_DISCOUNT_2017  ENDUSE_HAS_CORE_2017  ENDUSE_HAS_WEAREVER_2017  ENDUSE_HAS_PUREJILL_2017  PAYTYPE_HAS_JJC_2017  PAYTYPE_HAS_VISA_2017  PAYTYPE_HAS_MC_2017  PAYTYPE_HAS_AMEX_2017  PAYTYPE_HAS_DISC_2017  PAYTYPE_HAS_DEBIT_2017  PAYTYPE_HAS_CASH_2017  PAYTYPE_HAS_CK_2017  PAYTYPE_HAS_OTHER_2017  FABRICCATEGORY_HAS_COTTON/COTTONBL_2017  FABRICCATEGORY_HAS_SYNTHETIC/SYNBLEND_2017  FABRICCATEGORY_HAS_LINEN/LINENBL_2017  ENDUSE_%_CORE_2017  ENDUSE_%_WEAREVER_2017  ENDUSE_%_PUREJILL_2017  PAYTYPE_%_JJC_2017  PAYTYPE_%_VISA_2017  PAYTYPE_%_MC_2017  PAYTYPE_%_AMEX_2017  PAYTYPE_%_DISC_2017  PAYTYPE_%_DEBIT_2017  PAYTYPE_%_CASH_2017  PAYTYPE_%_CK_2017  PAYTYPE_%_OTHER_2017  FABRICCATEGORY_%_COTTON/COTTONBL_2017  FABRICCATEGORY_%_SYNTHETIC/SYNBLEND_2017  \\\n",
       "0   0000000004           Pants                9.0                 378.84                  42.093333                  15.642059                 244.674025         208.10          23.122222           3.723835          13.866944                   1.0                       1.0                       0.0                   0.0                    0.0                  1.0                    0.0                    0.0                     0.0                    0.0                  0.0                     0.0                                      0.0                                         1.0                                    0.0               0.556                   0.444                   0.000                 0.0                  0.0                1.0                  0.0                  0.0                   0.0                  0.0                0.0                   0.0                                  0.000                                     0.444   \n",
       "3   0000000023           Pants                1.0                  27.99                  27.990000                  12.858436                 245.052252          12.00          12.000000           7.279993          77.617958                   1.0                       0.0                       0.0                   0.0                    0.0                  0.0                    0.0                    0.0                     0.0                    1.0                  0.0                     0.0                                      1.0                                         0.0                                    0.0               1.000                   0.000                   0.000                 0.0                  0.0                0.0                  0.0                  0.0                   0.0                  1.0                0.0                   0.0                                  1.000                                     0.000   \n",
       "7   0000000049           Pants                3.0                 123.32                  41.106667                  35.605170                1267.728133          54.68          18.226667          15.797726         249.568133                   1.0                       0.0                       0.0                   0.0                    0.0                  0.0                    1.0                    0.0                     0.0                    0.0                  0.0                     0.0                                      0.0                                         0.0                                    0.0               1.000                   0.000                   0.000                 0.0                  0.0                0.0                  1.0                  0.0                   0.0                  0.0                0.0                   0.0                                  0.000                                     0.000   \n",
       "9   0000000088           Pants                2.0                 124.60                  62.300000                   0.000000                   0.000000          53.40          26.700000           0.000000           0.000000                   1.0                       0.0                       0.0                   0.0                    0.0                  0.0                    0.0                    0.0                     1.0                    0.0                  0.0                     0.0                                      1.0                                         0.0                                    0.0               1.000                   0.000                   0.000                 0.0                  0.0                0.0                  0.0                  0.0                   1.0                  0.0                0.0                   0.0                                  1.000                                     0.000   \n",
       "11  0000000118           Pants                8.0                 393.64                  49.205000                  10.663724                 113.715000         198.36          24.795000           5.371951          28.857857                   1.0                       0.0                       1.0                   1.0                    0.0                  0.0                    0.0                    0.0                     0.0                    0.0                  0.0                     0.0                                      1.0                                         0.0                                    0.0               0.875                   0.000                   0.125                 1.0                  0.0                0.0                  0.0                  0.0                   0.0                  0.0                0.0                   0.0                                  0.375                                     0.000   \n",
       "\n",
       "    FABRICCATEGORY_%_LINEN/LINENBL_2017  N_PANTS2018  BOUGHT_2018  \n",
       "0                                   0.0          0.0            0  \n",
       "3                                   0.0          0.0            0  \n",
       "7                                   0.0          0.0            0  \n",
       "9                                   0.0          0.0            0  \n",
       "11                                  0.0          1.0            1  "
      ]
     },
     "execution_count": 9,
     "metadata": {},
     "output_type": "execute_result"
    }
   ],
   "source": [
    "DFPants.head()"
   ]
  },
  {
   "cell_type": "markdown",
   "metadata": {},
   "source": [
    "# Pants Model"
   ]
  },
  {
   "cell_type": "code",
   "execution_count": 8,
   "metadata": {
    "collapsed": false
   },
   "outputs": [
    {
     "name": "stdout",
     "output_type": "stream",
     "text": [
      "Random Forest Classifier Fit BOUGHT_2018\n",
      "Best estimator score: 0.6885076444797894\n",
      "Best estimator params: {'rfc__max_depth': 7}\n",
      "\n",
      "Validation Score Accuracy: 68.85% +/- 0.39%\n",
      "Train Score Accuracy: 71.01% +/- 0.12%\n"
     ]
    },
    {
     "data": {
      "image/png": "[encoded data removed]",
      "text/plain": [
       "<matplotlib.figure.Figure at 0x103e94650>"
      ]
     },
     "metadata": {},
     "output_type": "display_data"
    },
    {
     "name": "stdout",
     "output_type": "stream",
     "text": [
      "Accuracy: 0.69\n",
      "Missclassification Rate: 0.31\n",
      "(1) Positive Rate(Recall): 0.91\n",
      "(0) Positive Rate(Sensitivity): 0.30\n",
      "Precision(proportion of predicted (1)): 0.70\n",
      "Specificity(proportion of predicted (0): 0.64\n"
     ]
    },
    {
     "data": {
      "image/png": "[encoded data removed]",
      "text/plain": [
       "<matplotlib.figure.Figure at 0x103e8d2d0>"
      ]
     },
     "metadata": {},
     "output_type": "display_data"
    },
    {
     "name": "stdout",
     "output_type": "stream",
     "text": [
      "AUC(Area Under Curve) score: 0.690810\n",
      "\n",
      "CPU times: user 34.4 s, sys: 4.56 s, total: 38.9 s\n",
      "Wall time: 18min 30s\n"
     ]
    }
   ],
   "source": [
    "%%time\n",
    "\n",
    "X = DFPants[cols_X]\n",
    "y = DFPants[cols_y]\n",
    "X_train,X_test,y_train,y_test = train_test_split(X,y,test_size=.2,random_state=42)\n",
    "\n",
    "#Using Training data, to make validation set. 60-20-20 (training, valid, test)\n",
    "cv = ShuffleSplit(n_splits=50,test_size=.25,random_state=42)\n",
    "\n",
    "print 'Random Forest Classifier Fit %s' % cols_y\n",
    "pipe = Pipeline([('rfc',RandomForestClassifier(n_estimators=100,\n",
    "                                               max_features='auto'))])\n",
    "\n",
    "params = [{'rfc__max_depth': [1,2,3,4,5,6,7,8,9,None]}]\n",
    "grid = GridSearchCV(estimator=pipe,\n",
    "                    param_grid=params,\n",
    "                    scoring='roc_auc',\n",
    "                    cv = cv,\n",
    "                    n_jobs=-1)\n",
    "\n",
    "grid.fit(X_train,y_train)\n",
    "print 'Best estimator score:',grid.best_score_\n",
    "print 'Best estimator params:',grid.best_params_\n",
    "print ''\n",
    "#dill.settings['recurse']=True\n",
    "#with open('./Models/T1_MayAug_LogReg_%s.pkl' % cols_y,'wb') as outfile:\n",
    "#    dill.dump(grid,outfile)\n",
    "\n",
    "me.ModelEvalClassifier(grid,X_train,X_test,y_train,y_test)\n",
    "print ''"
   ]
  },
  {
   "cell_type": "code",
   "execution_count": null,
   "metadata": {
    "collapsed": true
   },
   "outputs": [],
   "source": []
  }
 ],
 "metadata": {
  "kernelspec": {
   "display_name": "Python [Root]",
   "language": "python",
   "name": "Python [Root]"
  },
  "language_info": {
   "codemirror_mode": {
    "name": "ipython",
    "version": 2
   },
   "file_extension": ".py",
   "mimetype": "text/x-python",
   "name": "python",
   "nbconvert_exporter": "python",
   "pygments_lexer": "ipython2",
   "version": "2.7.12"
  }
 },
 "nbformat": 4,
 "nbformat_minor": 2
}
