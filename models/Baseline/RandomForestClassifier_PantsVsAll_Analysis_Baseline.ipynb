{
 "cells": [
  {
   "cell_type": "code",
   "execution_count": 17,
   "metadata": {
    "collapsed": false
   },
   "outputs": [],
   "source": [
    "import dill\n",
    "import numpy as np\n",
    "import pandas as pd\n",
    "from datetime import datetime as dt, timedelta\n",
    "import matplotlib.pyplot as plt\n",
    "import math\n",
    "from sklearn.linear_model import LogisticRegression\n",
    "from sklearn.ensemble import RandomForestClassifier\n",
    "from sklearn.pipeline import Pipeline\n",
    "from sklearn.model_selection import train_test_split,GridSearchCV,ShuffleSplit\n",
    "from sklearn.preprocessing import OneHotEncoder,LabelEncoder,StandardScaler, Normalizer\n",
    "from sklearn.metrics import classification_report, confusion_matrix, roc_curve, auc\n",
    "from IPython.display import display, HTML\n",
    "%matplotlib inline\n",
    "pd.set_option('display.height', 1000)\n",
    "pd.set_option('display.max_rows', 500)\n",
    "pd.set_option('display.max_columns', 500)\n",
    "pd.set_option('display.width', 1000)\n",
    "\n",
    "\n",
    "import ModelEvaluation as me"
   ]
  },
  {
   "cell_type": "markdown",
   "metadata": {
    "collapsed": true
   },
   "source": [
    "# Analysis, 15k unique users"
   ]
  },
  {
   "cell_type": "code",
   "execution_count": 2,
   "metadata": {
    "collapsed": true
   },
   "outputs": [],
   "source": [
    "DF = pd.read_pickle('../data/Customer_Dataset_15k_Baseline.pkl')"
   ]
  },
  {
   "cell_type": "code",
   "execution_count": 3,
   "metadata": {
    "collapsed": false
   },
   "outputs": [
    {
     "name": "stdout",
     "output_type": "stream",
     "text": [
      "Input features: \n",
      "['REF_DATE_MONTH', 'REF_DATE_DAY', 'REF_DATE_YEAR', 'NUM_PAST_ORDERS', 'SUM_PAST_SHIPPED_SOLD_AMT', 'AVG_PAST_SHIPPED_SOLD_AMT', 'STDDEV_PAST_SHIPPED_SOLD_AMT', 'VAR_PAST_SHIPPED_SOLD_AMT', 'SUM_PAST_DISCOUNT', 'AVG_PAST_DISCOUNT', 'STDDEV_PAST_DISCOUNT', 'VAR_PAST_DISCOUNT', 'HAS_CORE', 'HAS_PURE_JILL', 'HAS_WEAREVER', 'HAS_FP', 'HAS_SP', 'HAS_CASH', 'HAS_CK', 'HAS_DEBIT', 'HAS_DISC', 'HAS_JJC', 'HAS_MC', 'HAS_OTHER_PAYTYPE', 'HAS_VISA', 'HAS_D', 'HAS_R', 'HAS_COTTON/COTTON_BL', 'HAS_LINEN/LINEN_BL', 'HAS_OTHER_FABRIC', 'HAS_SYNTHETIC/SYN_BLEND', '%_IN_CORE', '%_IN_PURE_JILL', '%_IN_WEAREVER', '%_IN_FP', '%_IN_SP', '%_IN_CASH', '%_IN_CK', '%_IN_DEBIT', '%_IN_DISC', '%_IN_JJC', '%_IN_MC', '%_IN_OTHER_PAYTYPE', '%_IN_VISA', '%_IN_D', '%_IN_R', '%_IN_COTTON/COTTON_BL', '%_IN_LINEN/LINEN_BL', '%_IN_OTHER_FABRIC', '%_IN_SYNTHETIC/SYN_BLEND']\n",
      "\n",
      "Dependent feature: BOUGHT_PANTS\n",
      "\n",
      "\n"
     ]
    }
   ],
   "source": [
    "X_features = ['REF_DATE_MONTH', 'REF_DATE_DAY', 'REF_DATE_YEAR', 'NUM_PAST_ORDERS',\n",
    " 'SUM_PAST_SHIPPED_SOLD_AMT', 'AVG_PAST_SHIPPED_SOLD_AMT', 'STDDEV_PAST_SHIPPED_SOLD_AMT',\n",
    " 'VAR_PAST_SHIPPED_SOLD_AMT', 'SUM_PAST_DISCOUNT', 'AVG_PAST_DISCOUNT',\n",
    " 'STDDEV_PAST_DISCOUNT', 'VAR_PAST_DISCOUNT', 'HAS_CORE', 'HAS_PURE_JILL',\n",
    " 'HAS_WEAREVER', 'HAS_FP', 'HAS_SP', 'HAS_CASH', 'HAS_CK', 'HAS_DEBIT',\n",
    " 'HAS_DISC', 'HAS_JJC', 'HAS_MC', 'HAS_OTHER_PAYTYPE', 'HAS_VISA',\n",
    " 'HAS_D', 'HAS_R', 'HAS_COTTON/COTTON_BL', 'HAS_LINEN/LINEN_BL', 'HAS_OTHER_FABRIC',\n",
    " 'HAS_SYNTHETIC/SYN_BLEND', '%_IN_CORE', '%_IN_PURE_JILL', '%_IN_WEAREVER',\n",
    " '%_IN_FP', '%_IN_SP', '%_IN_CASH', '%_IN_CK', '%_IN_DEBIT', '%_IN_DISC', '%_IN_JJC',\n",
    " '%_IN_MC', '%_IN_OTHER_PAYTYPE', '%_IN_VISA', '%_IN_D', '%_IN_R', '%_IN_COTTON/COTTON_BL',\n",
    " '%_IN_LINEN/LINEN_BL', '%_IN_OTHER_FABRIC', '%_IN_SYNTHETIC/SYN_BLEND']\n",
    "dependent = 'BOUGHT_PANTS'\n",
    "\n",
    "print 'Input features: \\n%s\\n' % X_features\n",
    "print 'Dependent feature: %s\\n\\n' % dependent"
   ]
  },
  {
   "cell_type": "code",
   "execution_count": 4,
   "metadata": {
    "collapsed": false
   },
   "outputs": [
    {
     "name": "stdout",
     "output_type": "stream",
     "text": [
      "Building Train and Test...\n",
      "For test set,\n",
      "Number of negatives (0): 45238 \n",
      "Number of positives (1): 54131 \n"
     ]
    }
   ],
   "source": [
    "print 'Building Train and Test...'\n",
    "limit_num = int(round(DF.ILINK.unique().shape[0] * .8))\n",
    "train = DF.ILINK.unique().tolist()[:limit_num]\n",
    "test = DF.ILINK.unique().tolist()[limit_num:]\n",
    "DFTrain = DF[DF.ILINK.isin(train)]\n",
    "DFTest = DF[DF.ILINK.isin(test)]\n",
    "\n",
    "X_train = DFTrain[X_features]\n",
    "y_train = DFTrain[dependent]\n",
    "\n",
    "X_test = DFTest[X_features]\n",
    "y_test = DFTest[dependent]\n",
    "\n",
    "print 'For test set,'\n",
    "print 'Number of negatives (0): %d '  % y_test.value_counts()[0]\n",
    "print 'Number of positives (1): %d '  % y_test.value_counts()[1]"
   ]
  },
  {
   "cell_type": "code",
   "execution_count": 20,
   "metadata": {
    "collapsed": false
   },
   "outputs": [],
   "source": [
    "grid = pd.read_pickle('../models/RFC_PantsVsAll_BaselineV1_15k.pkl')\n",
    "#with open('../models/RFC_PantsVsAll_BaselineV1_15k.pkl') as infile:\n",
    "#    grid = dill.load(infile)"
   ]
  },
  {
   "cell_type": "code",
   "execution_count": 21,
   "metadata": {
    "collapsed": false
   },
   "outputs": [
    {
     "name": "stdout",
     "output_type": "stream",
     "text": [
      "Validation Score Accuracy: 99.72% +/- 0.02%\n",
      "Train Score Accuracy: 99.98% +/- 0.00%\n"
     ]
    },
    {
     "data": {
      "image/png": "[encoded data removed]",
      "text/plain": [
       "<matplotlib.figure.Figure at 0x160682c90>"
      ]
     },
     "metadata": {},
     "output_type": "display_data"
    },
    {
     "name": "stdout",
     "output_type": "stream",
     "text": [
      "Accuracy: 0.65\n",
      "Missclassification Rate: 0.35\n",
      "(1) Positive Rate(Recall): 0.76\n",
      "(0) Positive Rate(Sensitivity): 0.52\n",
      "Precision(proportion of predicted (1)): 0.65\n",
      "Specificity(proportion of predicted (0): 0.64\n"
     ]
    },
    {
     "data": {
      "image/png": "[encoded data removed]",
      "text/plain": [
       "<matplotlib.figure.Figure at 0x113975910>"
      ]
     },
     "metadata": {},
     "output_type": "display_data"
    },
    {
     "name": "stdout",
     "output_type": "stream",
     "text": [
      "AUC(Area Under Curve) score: 0.698431\n"
     ]
    }
   ],
   "source": [
    "me.ModelEvalClassifier(grid,X_test,y_test)"
   ]
  },
  {
   "cell_type": "code",
   "execution_count": 22,
   "metadata": {
    "collapsed": false
   },
   "outputs": [
    {
     "data": {
      "image/png": "[encoded data removed]",
      "text/plain": [
       "<matplotlib.figure.Figure at 0x1192d7dd0>"
      ]
     },
     "metadata": {},
     "output_type": "display_data"
    },
    {
     "name": "stdout",
     "output_type": "stream",
     "text": [
      "---Classification Report---\n",
      "             precision    recall  f1-score   support\n",
      "\n",
      "          0       0.64      0.52      0.58     45238\n",
      "          1       0.65      0.76      0.70     54131\n",
      "\n",
      "avg / total       0.65      0.65      0.65     99369\n",
      "\n"
     ]
    }
   ],
   "source": [
    "pred = grid.predict(X_test)\n",
    "y_test_0 = y_test.value_counts()[0]\n",
    "y_test_1 = y_test.value_counts()[1]\n",
    "me.PlotConfusionMatrix(y_test,pred,y_test_1,y_test_0)"
   ]
  },
  {
   "cell_type": "code",
   "execution_count": null,
   "metadata": {
    "collapsed": true
   },
   "outputs": [],
   "source": []
  }
 ],
 "metadata": {
  "anaconda-cloud": {},
  "kernelspec": {
   "display_name": "Python [Root]",
   "language": "python",
   "name": "Python [Root]"
  },
  "language_info": {
   "codemirror_mode": {
    "name": "ipython",
    "version": 2
   },
   "file_extension": ".py",
   "mimetype": "text/x-python",
   "name": "python",
   "nbconvert_exporter": "python",
   "pygments_lexer": "ipython2",
   "version": "2.7.12"
  }
 },
 "nbformat": 4,
 "nbformat_minor": 2
}
