{
 "cells": [
  {
   "cell_type": "code",
   "execution_count": 1,
   "metadata": {
    "collapsed": false
   },
   "outputs": [
    {
     "data": {
      "text/plain": [
       "<module 'ModelEvaluation' from 'ModelEvaluation.pyc'>"
      ]
     },
     "execution_count": 1,
     "metadata": {},
     "output_type": "execute_result"
    }
   ],
   "source": [
    "import dill\n",
    "import numpy as np\n",
    "import pandas as pd\n",
    "import matplotlib.pyplot as plt\n",
    "import math\n",
    "from sklearn.linear_model import LogisticRegression\n",
    "from sklearn.ensemble import RandomForestClassifier\n",
    "from sklearn.pipeline import Pipeline\n",
    "from sklearn.model_selection import train_test_split,GridSearchCV,ShuffleSplit\n",
    "from sklearn.preprocessing import OneHotEncoder,LabelEncoder,StandardScaler, Normalizer\n",
    "from sklearn.metrics import classification_report, confusion_matrix, roc_curve, auc\n",
    "from IPython.display import display, HTML\n",
    "%matplotlib inline\n",
    "pd.set_option('display.height', 1000)\n",
    "pd.set_option('display.max_rows', 500)\n",
    "pd.set_option('display.max_columns', 500)\n",
    "pd.set_option('display.width', 1000)\n",
    "\n",
    "\n",
    "import ModelEvaluation as me\n",
    "reload(me)"
   ]
  },
  {
   "cell_type": "markdown",
   "metadata": {},
   "source": [
    "# 10,000 Unique Ilinks Model"
   ]
  },
  {
   "cell_type": "code",
   "execution_count": 2,
   "metadata": {
    "collapsed": false
   },
   "outputs": [
    {
     "name": "stdout",
     "output_type": "stream",
     "text": [
      "Total Size of Dataset: 457465\n",
      "Total Unique Users: 10000\n",
      "\n",
      "\n"
     ]
    }
   ],
   "source": [
    "DF = pd.read_pickle('../data/numericalFts_10kUsers_BaselineV1.pkl')\n",
    "\n",
    "print 'Total Size of Dataset: %d' % DF.shape[0]\n",
    "print 'Total Unique Users: %d\\n\\n' % len(DF.ILINK.unique().tolist())"
   ]
  },
  {
   "cell_type": "code",
   "execution_count": 3,
   "metadata": {
    "collapsed": false
   },
   "outputs": [
    {
     "name": "stdout",
     "output_type": "stream",
     "text": [
      "Input features: \n",
      "['REF_DATE_MONTH', 'REF_DATE_DAY', 'REF_DATE_YEAR', 'NUM_PAST_ORDERS', 'SUM_PAST_SHIPPED_SOLD_AMT', 'AVG_PAST_SHIPPED_SOLD_AMT', 'STDDEV_PAST_SHIPPED_SOLD_AMT', 'VAR_PAST_SHIPPED_SOLD_AMT', 'SUM_PAST_DISCOUNT', 'AVG_PAST_DISCOUNT', 'STDDEV_PAST_DISCOUNT', 'VAR_PAST_DISCOUNT']\n",
      "\n",
      "Dependent feature: BOUGHT_PANTS\n",
      "\n",
      "\n"
     ]
    }
   ],
   "source": [
    "X_features = ['REF_DATE_MONTH',\n",
    "              'REF_DATE_DAY',\n",
    "              'REF_DATE_YEAR',\n",
    "              'NUM_PAST_ORDERS',\n",
    "              'SUM_PAST_SHIPPED_SOLD_AMT',\n",
    "              'AVG_PAST_SHIPPED_SOLD_AMT',\n",
    "              'STDDEV_PAST_SHIPPED_SOLD_AMT',\n",
    "              'VAR_PAST_SHIPPED_SOLD_AMT',\n",
    "              'SUM_PAST_DISCOUNT',\n",
    "              'AVG_PAST_DISCOUNT',\n",
    "              'STDDEV_PAST_DISCOUNT',\n",
    "              'VAR_PAST_DISCOUNT']\n",
    "dependent = 'BOUGHT_PANTS'\n",
    "\n",
    "print 'Input features: \\n%s\\n' % X_features\n",
    "print 'Dependent feature: %s\\n\\n' % dependent\n",
    "\n",
    "train = DF.ILINK.unique().tolist()[:8000]\n",
    "test = DF.ILINK.unique().tolist()[-2000:]\n",
    "DFTrain = DF[DF.ILINK.isin(train)]\n",
    "DFTest = DF[DF.ILINK.isin(test)]\n",
    "\n",
    "X_train = DFTrain[X_features]\n",
    "y_train = DFTrain[dependent]\n",
    "\n",
    "X_test = DFTest[X_features]\n",
    "y_test = DFTest[dependent]"
   ]
  },
  {
   "cell_type": "code",
   "execution_count": 4,
   "metadata": {
    "collapsed": false
   },
   "outputs": [
    {
     "data": {
      "text/html": [
       "<div>\n",
       "<style scoped>\n",
       "    .dataframe tbody tr th:only-of-type {\n",
       "        vertical-align: middle;\n",
       "    }\n",
       "\n",
       "    .dataframe tbody tr th {\n",
       "        vertical-align: top;\n",
       "    }\n",
       "\n",
       "    .dataframe thead th {\n",
       "        text-align: right;\n",
       "    }\n",
       "</style>\n",
       "<table border=\"1\" class=\"dataframe\">\n",
       "  <thead>\n",
       "    <tr style=\"text-align: right;\">\n",
       "      <th></th>\n",
       "      <th>ILINK</th>\n",
       "      <th>REF_DATE_MONTH</th>\n",
       "      <th>REF_DATE_DAY</th>\n",
       "      <th>REF_DATE_YEAR</th>\n",
       "      <th>MOST_RECENT_PAST_ORDER_DATE</th>\n",
       "      <th>NUM_PAST_ORDERS</th>\n",
       "      <th>SUM_PAST_SHIPPED_SOLD_AMT</th>\n",
       "      <th>AVG_PAST_SHIPPED_SOLD_AMT</th>\n",
       "      <th>STDDEV_PAST_SHIPPED_SOLD_AMT</th>\n",
       "      <th>VAR_PAST_SHIPPED_SOLD_AMT</th>\n",
       "      <th>SUM_PAST_DISCOUNT</th>\n",
       "      <th>AVG_PAST_DISCOUNT</th>\n",
       "      <th>STDDEV_PAST_DISCOUNT</th>\n",
       "      <th>VAR_PAST_DISCOUNT</th>\n",
       "      <th>BOUGHT_DRESSES</th>\n",
       "      <th>BOUGHT_KNIT TOPS</th>\n",
       "      <th>BOUGHT_OTHER</th>\n",
       "      <th>BOUGHT_PANTS</th>\n",
       "      <th>BOUGHT_WOVEN SHIRTS</th>\n",
       "    </tr>\n",
       "  </thead>\n",
       "  <tbody>\n",
       "    <tr>\n",
       "      <th>0</th>\n",
       "      <td>0000000741</td>\n",
       "      <td>1.0</td>\n",
       "      <td>3.0</td>\n",
       "      <td>2018.0</td>\n",
       "      <td>2018-01-02</td>\n",
       "      <td>1</td>\n",
       "      <td>28.49</td>\n",
       "      <td>28.490000</td>\n",
       "      <td>15.304313</td>\n",
       "      <td>356.365040</td>\n",
       "      <td>21.5</td>\n",
       "      <td>21.500000</td>\n",
       "      <td>8.135072</td>\n",
       "      <td>97.480697</td>\n",
       "      <td>0</td>\n",
       "      <td>0</td>\n",
       "      <td>0</td>\n",
       "      <td>0</td>\n",
       "      <td>1</td>\n",
       "    </tr>\n",
       "    <tr>\n",
       "      <th>1</th>\n",
       "      <td>0000000741</td>\n",
       "      <td>1.0</td>\n",
       "      <td>4.0</td>\n",
       "      <td>2018.0</td>\n",
       "      <td>2018-01-02</td>\n",
       "      <td>1</td>\n",
       "      <td>28.49</td>\n",
       "      <td>28.490000</td>\n",
       "      <td>15.304313</td>\n",
       "      <td>356.365040</td>\n",
       "      <td>21.5</td>\n",
       "      <td>21.500000</td>\n",
       "      <td>8.135072</td>\n",
       "      <td>97.480697</td>\n",
       "      <td>0</td>\n",
       "      <td>0</td>\n",
       "      <td>0</td>\n",
       "      <td>0</td>\n",
       "      <td>1</td>\n",
       "    </tr>\n",
       "    <tr>\n",
       "      <th>2</th>\n",
       "      <td>0000000741</td>\n",
       "      <td>1.0</td>\n",
       "      <td>5.0</td>\n",
       "      <td>2018.0</td>\n",
       "      <td>2018-01-04</td>\n",
       "      <td>3</td>\n",
       "      <td>75.97</td>\n",
       "      <td>25.323333</td>\n",
       "      <td>2.742414</td>\n",
       "      <td>7.520833</td>\n",
       "      <td>74.0</td>\n",
       "      <td>24.666667</td>\n",
       "      <td>2.742414</td>\n",
       "      <td>7.520833</td>\n",
       "      <td>0</td>\n",
       "      <td>0</td>\n",
       "      <td>0</td>\n",
       "      <td>0</td>\n",
       "      <td>1</td>\n",
       "    </tr>\n",
       "    <tr>\n",
       "      <th>3</th>\n",
       "      <td>0000000741</td>\n",
       "      <td>1.0</td>\n",
       "      <td>6.0</td>\n",
       "      <td>2018.0</td>\n",
       "      <td>2018-01-04</td>\n",
       "      <td>3</td>\n",
       "      <td>75.97</td>\n",
       "      <td>25.323333</td>\n",
       "      <td>2.742414</td>\n",
       "      <td>7.520833</td>\n",
       "      <td>74.0</td>\n",
       "      <td>24.666667</td>\n",
       "      <td>2.742414</td>\n",
       "      <td>7.520833</td>\n",
       "      <td>0</td>\n",
       "      <td>0</td>\n",
       "      <td>0</td>\n",
       "      <td>0</td>\n",
       "      <td>1</td>\n",
       "    </tr>\n",
       "    <tr>\n",
       "      <th>4</th>\n",
       "      <td>0000000741</td>\n",
       "      <td>1.0</td>\n",
       "      <td>7.0</td>\n",
       "      <td>2018.0</td>\n",
       "      <td>2018-01-04</td>\n",
       "      <td>3</td>\n",
       "      <td>75.97</td>\n",
       "      <td>25.323333</td>\n",
       "      <td>2.742414</td>\n",
       "      <td>7.520833</td>\n",
       "      <td>74.0</td>\n",
       "      <td>24.666667</td>\n",
       "      <td>2.742414</td>\n",
       "      <td>7.520833</td>\n",
       "      <td>0</td>\n",
       "      <td>0</td>\n",
       "      <td>0</td>\n",
       "      <td>0</td>\n",
       "      <td>1</td>\n",
       "    </tr>\n",
       "  </tbody>\n",
       "</table>\n",
       "</div>"
      ],
      "text/plain": [
       "        ILINK  REF_DATE_MONTH  REF_DATE_DAY  REF_DATE_YEAR MOST_RECENT_PAST_ORDER_DATE  NUM_PAST_ORDERS  SUM_PAST_SHIPPED_SOLD_AMT  AVG_PAST_SHIPPED_SOLD_AMT  STDDEV_PAST_SHIPPED_SOLD_AMT  VAR_PAST_SHIPPED_SOLD_AMT  SUM_PAST_DISCOUNT  AVG_PAST_DISCOUNT  STDDEV_PAST_DISCOUNT  VAR_PAST_DISCOUNT  BOUGHT_DRESSES  BOUGHT_KNIT TOPS  BOUGHT_OTHER  BOUGHT_PANTS  BOUGHT_WOVEN SHIRTS\n",
       "0  0000000741             1.0           3.0         2018.0                  2018-01-02                1                      28.49                  28.490000                     15.304313                 356.365040               21.5          21.500000              8.135072          97.480697               0                 0             0             0                    1\n",
       "1  0000000741             1.0           4.0         2018.0                  2018-01-02                1                      28.49                  28.490000                     15.304313                 356.365040               21.5          21.500000              8.135072          97.480697               0                 0             0             0                    1\n",
       "2  0000000741             1.0           5.0         2018.0                  2018-01-04                3                      75.97                  25.323333                      2.742414                   7.520833               74.0          24.666667              2.742414           7.520833               0                 0             0             0                    1\n",
       "3  0000000741             1.0           6.0         2018.0                  2018-01-04                3                      75.97                  25.323333                      2.742414                   7.520833               74.0          24.666667              2.742414           7.520833               0                 0             0             0                    1\n",
       "4  0000000741             1.0           7.0         2018.0                  2018-01-04                3                      75.97                  25.323333                      2.742414                   7.520833               74.0          24.666667              2.742414           7.520833               0                 0             0             0                    1"
      ]
     },
     "execution_count": 4,
     "metadata": {},
     "output_type": "execute_result"
    }
   ],
   "source": [
    "DF.head()"
   ]
  },
  {
   "cell_type": "code",
   "execution_count": 6,
   "metadata": {
    "collapsed": false
   },
   "outputs": [],
   "source": [
    "#random_state = 42 to insure same random split\n",
    "#X_train,X_test,y_train,y_test = train_test_split(X,y,test_size=.2,random_state=42)"
   ]
  },
  {
   "cell_type": "code",
   "execution_count": 7,
   "metadata": {
    "collapsed": true
   },
   "outputs": [],
   "source": [
    "grid = pd.read_pickle('../models/RFC_PantsVsAll_BaselineV1_10k.pkl')"
   ]
  },
  {
   "cell_type": "code",
   "execution_count": 8,
   "metadata": {
    "collapsed": false
   },
   "outputs": [
    {
     "data": {
      "text/plain": [
       "0    48827\n",
       "1    37344\n",
       "Name: BOUGHT_PANTS, dtype: int64"
      ]
     },
     "execution_count": 8,
     "metadata": {},
     "output_type": "execute_result"
    }
   ],
   "source": [
    "y_test.value_counts()\n",
    "#print (y_test == 1).count()"
   ]
  },
  {
   "cell_type": "code",
   "execution_count": 11,
   "metadata": {
    "collapsed": false
   },
   "outputs": [
    {
     "name": "stdout",
     "output_type": "stream",
     "text": [
      "Validation Score Accuracy: 97.66% +/- 0.05%\n",
      "Train Score Accuracy: 99.25% +/- 0.01%\n"
     ]
    },
    {
     "data": {
      "image/png": "[encoded data removed]",
      "text/plain": [
       "<matplotlib.figure.Figure at 0x1106e8850>"
      ]
     },
     "metadata": {},
     "output_type": "display_data"
    },
    {
     "name": "stdout",
     "output_type": "stream",
     "text": [
      "Accuracy: 0.65\n",
      "Missclassification Rate: 0.35\n",
      "(1) Positive Rate(Recall): 0.58\n",
      "(0) Positive Rate(Sensitivity): 0.69\n",
      "Precision(proportion of predicted (1)): 0.59\n",
      "Specificity(proportion of predicted (0): 0.68\n"
     ]
    },
    {
     "data": {
      "image/png": "[encoded data removed]",
      "text/plain": [
       "<matplotlib.figure.Figure at 0x112f0bd50>"
      ]
     },
     "metadata": {},
     "output_type": "display_data"
    },
    {
     "name": "stdout",
     "output_type": "stream",
     "text": [
      "AUC(Area Under Curve) score: 0.687855\n"
     ]
    }
   ],
   "source": [
    "me.ModelEvalClassifier(grid,X_test,y_test)"
   ]
  },
  {
   "cell_type": "code",
   "execution_count": 12,
   "metadata": {
    "collapsed": true
   },
   "outputs": [],
   "source": [
    "pred = grid.predict(X_test)\n",
    "y_test_0 = y_test.value_counts()[0]\n",
    "y_test_1 = y_test.value_counts()[1]"
   ]
  },
  {
   "cell_type": "code",
   "execution_count": 13,
   "metadata": {
    "collapsed": false
   },
   "outputs": [
    {
     "data": {
      "image/png": "[encoded data removed]",
      "text/plain": [
       "<matplotlib.figure.Figure at 0x103eed250>"
      ]
     },
     "metadata": {},
     "output_type": "display_data"
    },
    {
     "name": "stdout",
     "output_type": "stream",
     "text": [
      "---Classification Report---\n",
      "             precision    recall  f1-score   support\n",
      "\n",
      "          0       0.68      0.69      0.69     48827\n",
      "          1       0.59      0.58      0.59     37344\n",
      "\n",
      "avg / total       0.64      0.65      0.64     86171\n",
      "\n"
     ]
    }
   ],
   "source": [
    "me.PlotConfusionMatrix(y_test,pred,y_test_1,y_test_0)"
   ]
  },
  {
   "cell_type": "markdown",
   "metadata": {
    "collapsed": true
   },
   "source": [
    "# All All fts 15k users"
   ]
  },
  {
   "cell_type": "code",
   "execution_count": 46,
   "metadata": {
    "collapsed": true
   },
   "outputs": [],
   "source": [
    "DF = pd.read_pickle('../data/Customer_Dataset_15k_Baseline.pkl')"
   ]
  },
  {
   "cell_type": "code",
   "execution_count": 47,
   "metadata": {
    "collapsed": false
   },
   "outputs": [
    {
     "name": "stdout",
     "output_type": "stream",
     "text": [
      "Input features: \n",
      "['REF_DATE_MONTH', 'REF_DATE_DAY', 'REF_DATE_YEAR', 'NUM_PAST_ORDERS', 'SUM_PAST_SHIPPED_SOLD_AMT', 'AVG_PAST_SHIPPED_SOLD_AMT', 'STDDEV_PAST_SHIPPED_SOLD_AMT', 'VAR_PAST_SHIPPED_SOLD_AMT', 'SUM_PAST_DISCOUNT', 'AVG_PAST_DISCOUNT', 'STDDEV_PAST_DISCOUNT', 'VAR_PAST_DISCOUNT', 'HAS_CORE', 'HAS_PURE_JILL', 'HAS_WEAREVER', 'HAS_FP', 'HAS_SP', 'HAS_CASH', 'HAS_CK', 'HAS_DEBIT', 'HAS_DISC', 'HAS_JJC', 'HAS_MC', 'HAS_OTHER_PAYTYPE', 'HAS_VISA', 'HAS_D', 'HAS_R', 'HAS_COTTON/COTTON_BL', 'HAS_LINEN/LINEN_BL', 'HAS_OTHER_FABRIC', 'HAS_SYNTHETIC/SYN_BLEND', '%_IN_CORE', '%_IN_PURE_JILL', '%_IN_WEAREVER', '%_IN_FP', '%_IN_SP', '%_IN_CASH', '%_IN_CK', '%_IN_DEBIT', '%_IN_DISC', '%_IN_JJC', '%_IN_MC', '%_IN_OTHER_PAYTYPE', '%_IN_VISA', '%_IN_D', '%_IN_R', '%_IN_COTTON/COTTON_BL', '%_IN_LINEN/LINEN_BL', '%_IN_OTHER_FABRIC', '%_IN_SYNTHETIC/SYN_BLEND']\n",
      "\n",
      "Dependent feature: BOUGHT_PANTS\n",
      "\n",
      "\n"
     ]
    }
   ],
   "source": [
    "X_features = ['REF_DATE_MONTH', 'REF_DATE_DAY', 'REF_DATE_YEAR', 'NUM_PAST_ORDERS',\n",
    " 'SUM_PAST_SHIPPED_SOLD_AMT', 'AVG_PAST_SHIPPED_SOLD_AMT', 'STDDEV_PAST_SHIPPED_SOLD_AMT',\n",
    " 'VAR_PAST_SHIPPED_SOLD_AMT', 'SUM_PAST_DISCOUNT', 'AVG_PAST_DISCOUNT',\n",
    " 'STDDEV_PAST_DISCOUNT', 'VAR_PAST_DISCOUNT', 'HAS_CORE', 'HAS_PURE_JILL',\n",
    " 'HAS_WEAREVER', 'HAS_FP', 'HAS_SP', 'HAS_CASH', 'HAS_CK', 'HAS_DEBIT',\n",
    " 'HAS_DISC', 'HAS_JJC', 'HAS_MC', 'HAS_OTHER_PAYTYPE', 'HAS_VISA',\n",
    " 'HAS_D', 'HAS_R', 'HAS_COTTON/COTTON_BL', 'HAS_LINEN/LINEN_BL', 'HAS_OTHER_FABRIC',\n",
    " 'HAS_SYNTHETIC/SYN_BLEND', '%_IN_CORE', '%_IN_PURE_JILL', '%_IN_WEAREVER',\n",
    " '%_IN_FP', '%_IN_SP', '%_IN_CASH', '%_IN_CK', '%_IN_DEBIT', '%_IN_DISC', '%_IN_JJC',\n",
    " '%_IN_MC', '%_IN_OTHER_PAYTYPE', '%_IN_VISA', '%_IN_D', '%_IN_R', '%_IN_COTTON/COTTON_BL',\n",
    " '%_IN_LINEN/LINEN_BL', '%_IN_OTHER_FABRIC', '%_IN_SYNTHETIC/SYN_BLEND']\n",
    "dependent = 'BOUGHT_PANTS'\n",
    "\n",
    "print 'Input features: \\n%s\\n' % X_features\n",
    "print 'Dependent feature: %s\\n\\n' % dependent"
   ]
  },
  {
   "cell_type": "code",
   "execution_count": 48,
   "metadata": {
    "collapsed": false
   },
   "outputs": [
    {
     "name": "stdout",
     "output_type": "stream",
     "text": [
      "Building Train and Test...\n",
      "For test set,\n",
      "Number of negatives (0): 51354 \n",
      "Number of positives (1): 48015 \n"
     ]
    }
   ],
   "source": [
    "print 'Building Train and Test...'\n",
    "train = DF.ILINK.unique().tolist()[:11953]\n",
    "test = DF.ILINK.unique().tolist()[11953:]\n",
    "DFTrain = DF[DF.ILINK.isin(train)]\n",
    "DFTest = DF[DF.ILINK.isin(test)]\n",
    "\n",
    "X_train = DFTrain[X_features]\n",
    "y_train = DFTrain[dependent]\n",
    "\n",
    "X_test = DFTest[X_features]\n",
    "y_test = DFTest[dependent]\n",
    "\n",
    "print 'For test set,'\n",
    "print 'Number of negatives (0): %d '  % y_test.value_counts()[0]\n",
    "print 'Number of positives (1): %d '  % y_test.value_counts()[1]"
   ]
  },
  {
   "cell_type": "code",
   "execution_count": 49,
   "metadata": {
    "collapsed": false
   },
   "outputs": [],
   "source": [
    "grid = pd.read_pickle('../models/RFC_PantsVsAll_BaselineV1_15k.pkl')"
   ]
  },
  {
   "cell_type": "code",
   "execution_count": 50,
   "metadata": {
    "collapsed": false
   },
   "outputs": [
    {
     "name": "stdout",
     "output_type": "stream",
     "text": [
      "Validation Score Accuracy: 99.72% +/- 0.01%\n",
      "Train Score Accuracy: 99.97% +/- 0.00%\n"
     ]
    },
    {
     "data": {
      "image/png": "[encoded data removed]",
      "text/plain": [
       "<matplotlib.figure.Figure at 0x11b3b1090>"
      ]
     },
     "metadata": {},
     "output_type": "display_data"
    },
    {
     "name": "stdout",
     "output_type": "stream",
     "text": [
      "Accuracy: 0.68\n",
      "Missclassification Rate: 0.32\n",
      "(1) Positive Rate(Recall): 0.67\n",
      "(0) Positive Rate(Sensitivity): 0.68\n",
      "Precision(proportion of predicted (1)): 0.66\n",
      "Specificity(proportion of predicted (0): 0.69\n"
     ]
    },
    {
     "data": {
      "image/png": "[encoded data removed]",
      "text/plain": [
       "<matplotlib.figure.Figure at 0x1256f4350>"
      ]
     },
     "metadata": {},
     "output_type": "display_data"
    },
    {
     "name": "stdout",
     "output_type": "stream",
     "text": [
      "AUC(Area Under Curve) score: 0.738818\n"
     ]
    }
   ],
   "source": [
    "me.ModelEvalClassifier(grid,X_test,y_test)"
   ]
  },
  {
   "cell_type": "code",
   "execution_count": 51,
   "metadata": {
    "collapsed": false
   },
   "outputs": [
    {
     "data": {
      "image/png": "[encoded data removed]",
      "text/plain": [
       "<matplotlib.figure.Figure at 0x112da52d0>"
      ]
     },
     "metadata": {},
     "output_type": "display_data"
    },
    {
     "name": "stdout",
     "output_type": "stream",
     "text": [
      "---Classification Report---\n",
      "             precision    recall  f1-score   support\n",
      "\n",
      "          0       0.69      0.68      0.69     51354\n",
      "          1       0.66      0.67      0.67     48015\n",
      "\n",
      "avg / total       0.68      0.68      0.68     99369\n",
      "\n"
     ]
    }
   ],
   "source": [
    "pred = grid.predict(X_test)\n",
    "y_test_0 = y_test.value_counts()[0]\n",
    "y_test_1 = y_test.value_counts()[1]\n",
    "me.PlotConfusionMatrix(y_test,pred,y_test_1,y_test_0)"
   ]
  },
  {
   "cell_type": "code",
   "execution_count": null,
   "metadata": {
    "collapsed": true
   },
   "outputs": [],
   "source": []
  }
 ],
 "metadata": {
  "anaconda-cloud": {},
  "kernelspec": {
   "display_name": "Python [Root]",
   "language": "python",
   "name": "Python [Root]"
  },
  "language_info": {
   "codemirror_mode": {
    "name": "ipython",
    "version": 2
   },
   "file_extension": ".py",
   "mimetype": "text/x-python",
   "name": "python",
   "nbconvert_exporter": "python",
   "pygments_lexer": "ipython2",
   "version": "2.7.12"
  }
 },
 "nbformat": 4,
 "nbformat_minor": 2
}
