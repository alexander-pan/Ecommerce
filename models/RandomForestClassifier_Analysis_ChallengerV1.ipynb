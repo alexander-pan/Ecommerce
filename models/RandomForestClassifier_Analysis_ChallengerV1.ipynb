{
 "cells": [
  {
   "cell_type": "code",
   "execution_count": 2,
   "metadata": {
    "collapsed": false
   },
   "outputs": [],
   "source": [
    "import dill\n",
    "import numpy as np\n",
    "import pandas as pd\n",
    "import matplotlib.pyplot as plt\n",
    "import math\n",
    "from sklearn.linear_model import LogisticRegression\n",
    "from sklearn.ensemble import RandomForestClassifier\n",
    "from sklearn.pipeline import Pipeline\n",
    "from sklearn.model_selection import train_test_split,GridSearchCV,ShuffleSplit\n",
    "from sklearn.preprocessing import OneHotEncoder,LabelEncoder,StandardScaler, Normalizer\n",
    "from sklearn.metrics import confusion_matrix, roc_curve, auc\n",
    "from IPython.display import display, HTML\n",
    "%matplotlib inline\n",
    "pd.set_option('display.height', 1000)\n",
    "pd.set_option('display.max_rows', 500)\n",
    "pd.set_option('display.max_columns', 500)\n",
    "pd.set_option('display.width', 1000)\n",
    "\n",
    "\n",
    "import ModelEvaluation as me"
   ]
  },
  {
   "cell_type": "code",
   "execution_count": 6,
   "metadata": {
    "collapsed": false
   },
   "outputs": [
    {
     "name": "stdout",
     "output_type": "stream",
     "text": [
      "Total Size of Dataset: 670860\n",
      "Total Unique Users: 100000\n",
      "\n",
      "\n",
      "Input features: \n",
      "['REF_DATE_MONTH', 'REF_DATE_YEAR', 'NUM_PAST_ORDERS', 'SUM_PAST_SHIPPED_SOLD_AMT', 'AVG_PAST_SHIPPED_SOLD_AMT', 'STDDEV_PAST_SHIPPED_SOLD_AMT', 'VAR_PAST_SHIPPED_SOLD_AMT', 'SUM_PAST_DISCOUNT', 'AVG_PAST_DISCOUNT', 'STDDEV_PAST_DISCOUNT', 'VAR_PAST_DISCOUNT']\n",
      "\n",
      "Dependent feature: BOUGHT_PANTS\n",
      "\n",
      "\n"
     ]
    }
   ],
   "source": [
    "DF = pd.read_pickle('../data/numericalFts_100kUsers_ChallengerV1.pkl')\n",
    "\n",
    "print 'Total Size of Dataset: %d' % DF.shape[0]\n",
    "print 'Total Unique Users: %d\\n\\n' % len(DF.ILINK.unique().tolist())\n",
    "\n",
    "X_features = ['REF_DATE_MONTH',\n",
    "             'REF_DATE_YEAR',\n",
    "             'NUM_PAST_ORDERS',\n",
    "             'SUM_PAST_SHIPPED_SOLD_AMT',\n",
    "             'AVG_PAST_SHIPPED_SOLD_AMT',\n",
    "             'STDDEV_PAST_SHIPPED_SOLD_AMT',\n",
    "             'VAR_PAST_SHIPPED_SOLD_AMT',\n",
    "             'SUM_PAST_DISCOUNT',\n",
    "             'AVG_PAST_DISCOUNT',\n",
    "             'STDDEV_PAST_DISCOUNT',\n",
    "             'VAR_PAST_DISCOUNT']\n",
    "dependent = 'BOUGHT_PANTS'\n",
    "\n",
    "print 'Input features: \\n%s\\n' % X_features\n",
    "print 'Dependent feature: %s\\n\\n' % dependent\n",
    "X = DF[X_features]\n",
    "y = DF[dependent]"
   ]
  },
  {
   "cell_type": "code",
   "execution_count": 7,
   "metadata": {
    "collapsed": false
   },
   "outputs": [],
   "source": [
    "#random_state = 42 to insure same random split\n",
    "X_train,X_test,y_train,y_test = train_test_split(X,y,test_size=.2,random_state=42)"
   ]
  },
  {
   "cell_type": "code",
   "execution_count": 8,
   "metadata": {
    "collapsed": true
   },
   "outputs": [],
   "source": [
    "grid = pd.read_pickle('../models/RFC_PantsVsAll_ChallengerV1_Numeric.pkl')"
   ]
  },
  {
   "cell_type": "code",
   "execution_count": 9,
   "metadata": {
    "collapsed": false
   },
   "outputs": [
    {
     "name": "stdout",
     "output_type": "stream",
     "text": [
      "Validation Score Accuracy: 93.15% +/- 3.05%\n",
      "Train Score Accuracy: 99.99% +/- 0.01%\n"
     ]
    },
    {
     "data": {
      "image/png": "[encoded data removed]",
      "text/plain": [
       "<matplotlib.figure.Figure at 0x1228b6f50>"
      ]
     },
     "metadata": {},
     "output_type": "display_data"
    },
    {
     "name": "stdout",
     "output_type": "stream",
     "text": [
      "Accuracy: 0.76\n",
      "Missclassification Rate: 0.24\n",
      "(1) Positive Rate(Recall): 0.94\n",
      "(0) Positive Rate(Sensitivity): 0.11\n",
      "Precision(proportion of predicted (1)): 0.79\n",
      "Specificity(proportion of predicted (0): 0.34\n"
     ]
    },
    {
     "data": {
      "image/png": "[encoded data removed]",
      "text/plain": [
       "<matplotlib.figure.Figure at 0x11645d310>"
      ]
     },
     "metadata": {},
     "output_type": "display_data"
    },
    {
     "name": "stdout",
     "output_type": "stream",
     "text": [
      "AUC(Area Under Curve) score: 0.499034\n"
     ]
    }
   ],
   "source": [
    "me.ModelEvalClassifier(grid,X_test,y_test)"
   ]
  },
  {
   "cell_type": "code",
   "execution_count": null,
   "metadata": {
    "collapsed": true
   },
   "outputs": [],
   "source": []
  }
 ],
 "metadata": {
  "anaconda-cloud": {},
  "kernelspec": {
   "display_name": "Python [Root]",
   "language": "python",
   "name": "Python [Root]"
  },
  "language_info": {
   "codemirror_mode": {
    "name": "ipython",
    "version": 2
   },
   "file_extension": ".py",
   "mimetype": "text/x-python",
   "name": "python",
   "nbconvert_exporter": "python",
   "pygments_lexer": "ipython2",
   "version": "2.7.12"
  }
 },
 "nbformat": 4,
 "nbformat_minor": 2
}
