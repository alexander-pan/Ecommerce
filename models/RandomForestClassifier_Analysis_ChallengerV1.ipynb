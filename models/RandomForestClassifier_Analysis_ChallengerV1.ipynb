{
 "cells": [
  {
   "cell_type": "code",
   "execution_count": 39,
   "metadata": {
    "collapsed": false
   },
   "outputs": [
    {
     "data": {
      "text/plain": [
       "<module 'ModelEvaluation' from 'ModelEvaluation.py'>"
      ]
     },
     "execution_count": 39,
     "metadata": {},
     "output_type": "execute_result"
    }
   ],
   "source": [
    "import dill\n",
    "import numpy as np\n",
    "import pandas as pd\n",
    "import matplotlib.pyplot as plt\n",
    "import math\n",
    "from sklearn.linear_model import LogisticRegression\n",
    "from sklearn.ensemble import RandomForestClassifier\n",
    "from sklearn.pipeline import Pipeline\n",
    "from sklearn.model_selection import train_test_split,GridSearchCV,ShuffleSplit\n",
    "from sklearn.preprocessing import OneHotEncoder,LabelEncoder,StandardScaler, Normalizer\n",
    "from sklearn.metrics import classification_report, confusion_matrix, roc_curve, auc\n",
    "from IPython.display import display, HTML\n",
    "%matplotlib inline\n",
    "pd.set_option('display.height', 1000)\n",
    "pd.set_option('display.max_rows', 500)\n",
    "pd.set_option('display.max_columns', 500)\n",
    "pd.set_option('display.width', 1000)\n",
    "\n",
    "\n",
    "import ModelEvaluation as me\n",
    "reload(me)"
   ]
  },
  {
   "cell_type": "code",
   "execution_count": 44,
   "metadata": {
    "collapsed": false
   },
   "outputs": [
    {
     "name": "stdout",
     "output_type": "stream",
     "text": [
      "Total Size of Dataset: 274873\n",
      "Total Unique Users: 100000\n",
      "\n",
      "\n",
      "Input features: \n",
      "['REF_DATE_MONTH', 'REF_DATE_YEAR', 'NUM_PAST_ORDERS', 'SUM_PAST_SHIPPED_SOLD_AMT', 'AVG_PAST_SHIPPED_SOLD_AMT', 'STDDEV_PAST_SHIPPED_SOLD_AMT', 'VAR_PAST_SHIPPED_SOLD_AMT', 'SUM_PAST_DISCOUNT', 'AVG_PAST_DISCOUNT', 'STDDEV_PAST_DISCOUNT', 'VAR_PAST_DISCOUNT']\n",
      "\n",
      "Dependent feature: BOUGHT_PANTS\n",
      "\n",
      "\n"
     ]
    }
   ],
   "source": [
    "DF = pd.read_pickle('../data/numericalFts_100kUsers_ChallengerV1.pkl')\n",
    "\n",
    "print 'Total Size of Dataset: %d' % DF.shape[0]\n",
    "print 'Total Unique Users: %d\\n\\n' % len(DF.ILINK.unique().tolist())\n",
    "\n",
    "X_features = ['REF_DATE_MONTH',\n",
    "             'REF_DATE_YEAR',\n",
    "             'NUM_PAST_ORDERS',\n",
    "             'SUM_PAST_SHIPPED_SOLD_AMT',\n",
    "             'AVG_PAST_SHIPPED_SOLD_AMT',\n",
    "             'STDDEV_PAST_SHIPPED_SOLD_AMT',\n",
    "             'VAR_PAST_SHIPPED_SOLD_AMT',\n",
    "             'SUM_PAST_DISCOUNT',\n",
    "             'AVG_PAST_DISCOUNT',\n",
    "             'STDDEV_PAST_DISCOUNT',\n",
    "             'VAR_PAST_DISCOUNT']\n",
    "dependent = 'BOUGHT_PANTS'\n",
    "\n",
    "print 'Input features: \\n%s\\n' % X_features\n",
    "print 'Dependent feature: %s\\n\\n' % dependent\n",
    "\n",
    "train = DF.ILINK.unique().tolist()[:80000]\n",
    "test = DF.ILINK.unique().tolist()[-20000:]\n",
    "DFTrain = DF[DF.ILINK.isin(train)]\n",
    "DFTest = DF[DF.ILINK.isin(test)]\n",
    "\n",
    "X_train = DFTrain[X_features]\n",
    "y_train = DFTrain[dependent]\n",
    "\n",
    "X_test = DFTest[X_features]\n",
    "y_test = DFTest[dependent]"
   ]
  },
  {
   "cell_type": "code",
   "execution_count": 51,
   "metadata": {
    "collapsed": false
   },
   "outputs": [
    {
     "data": {
      "text/html": [
       "<div>\n",
       "<style scoped>\n",
       "    .dataframe tbody tr th:only-of-type {\n",
       "        vertical-align: middle;\n",
       "    }\n",
       "\n",
       "    .dataframe tbody tr th {\n",
       "        vertical-align: top;\n",
       "    }\n",
       "\n",
       "    .dataframe thead th {\n",
       "        text-align: right;\n",
       "    }\n",
       "</style>\n",
       "<table border=\"1\" class=\"dataframe\">\n",
       "  <thead>\n",
       "    <tr style=\"text-align: right;\">\n",
       "      <th></th>\n",
       "      <th>ILINK</th>\n",
       "      <th>REF_DATE_MONTH</th>\n",
       "      <th>REF_DATE_YEAR</th>\n",
       "      <th>MOST_RECENT_PAST_ORDER_DATE</th>\n",
       "      <th>NUM_PAST_ORDERS</th>\n",
       "      <th>SUM_PAST_SHIPPED_SOLD_AMT</th>\n",
       "      <th>AVG_PAST_SHIPPED_SOLD_AMT</th>\n",
       "      <th>STDDEV_PAST_SHIPPED_SOLD_AMT</th>\n",
       "      <th>VAR_PAST_SHIPPED_SOLD_AMT</th>\n",
       "      <th>SUM_PAST_DISCOUNT</th>\n",
       "      <th>AVG_PAST_DISCOUNT</th>\n",
       "      <th>STDDEV_PAST_DISCOUNT</th>\n",
       "      <th>VAR_PAST_DISCOUNT</th>\n",
       "      <th>BOUGHT_DRESSES</th>\n",
       "      <th>BOUGHT_KNIT TOPS</th>\n",
       "      <th>BOUGHT_OTHER</th>\n",
       "      <th>BOUGHT_PANTS</th>\n",
       "      <th>BOUGHT_WOVEN SHIRTS</th>\n",
       "    </tr>\n",
       "  </thead>\n",
       "  <tbody>\n",
       "    <tr>\n",
       "      <th>0</th>\n",
       "      <td>0000000490</td>\n",
       "      <td>1.0</td>\n",
       "      <td>2018.0</td>\n",
       "      <td>2018-01-10</td>\n",
       "      <td>3</td>\n",
       "      <td>193.90</td>\n",
       "      <td>64.633333</td>\n",
       "      <td>4.041452</td>\n",
       "      <td>16.333333</td>\n",
       "      <td>83.10</td>\n",
       "      <td>27.700000</td>\n",
       "      <td>1.732051</td>\n",
       "      <td>3.000000</td>\n",
       "      <td>0</td>\n",
       "      <td>1</td>\n",
       "      <td>1</td>\n",
       "      <td>1</td>\n",
       "      <td>0</td>\n",
       "    </tr>\n",
       "    <tr>\n",
       "      <th>1</th>\n",
       "      <td>0000000490</td>\n",
       "      <td>2.0</td>\n",
       "      <td>2018.0</td>\n",
       "      <td>2018-02-19</td>\n",
       "      <td>3</td>\n",
       "      <td>193.90</td>\n",
       "      <td>64.633333</td>\n",
       "      <td>4.041452</td>\n",
       "      <td>16.333333</td>\n",
       "      <td>83.10</td>\n",
       "      <td>27.700000</td>\n",
       "      <td>3.535534</td>\n",
       "      <td>12.500000</td>\n",
       "      <td>0</td>\n",
       "      <td>1</td>\n",
       "      <td>1</td>\n",
       "      <td>1</td>\n",
       "      <td>1</td>\n",
       "    </tr>\n",
       "    <tr>\n",
       "      <th>2</th>\n",
       "      <td>0000000490</td>\n",
       "      <td>3.0</td>\n",
       "      <td>2018.0</td>\n",
       "      <td>2018-03-01</td>\n",
       "      <td>4</td>\n",
       "      <td>132.98</td>\n",
       "      <td>39.000000</td>\n",
       "      <td>6.951741</td>\n",
       "      <td>48.326700</td>\n",
       "      <td>55.00</td>\n",
       "      <td>27.500000</td>\n",
       "      <td>16.007811</td>\n",
       "      <td>256.250000</td>\n",
       "      <td>0</td>\n",
       "      <td>1</td>\n",
       "      <td>1</td>\n",
       "      <td>0</td>\n",
       "      <td>1</td>\n",
       "    </tr>\n",
       "    <tr>\n",
       "      <th>3</th>\n",
       "      <td>0000000741</td>\n",
       "      <td>1.0</td>\n",
       "      <td>2018.0</td>\n",
       "      <td>2018-01-04</td>\n",
       "      <td>3</td>\n",
       "      <td>75.97</td>\n",
       "      <td>28.490000</td>\n",
       "      <td>2.742414</td>\n",
       "      <td>7.520833</td>\n",
       "      <td>74.00</td>\n",
       "      <td>24.666667</td>\n",
       "      <td>2.742414</td>\n",
       "      <td>7.520833</td>\n",
       "      <td>0</td>\n",
       "      <td>0</td>\n",
       "      <td>0</td>\n",
       "      <td>0</td>\n",
       "      <td>1</td>\n",
       "    </tr>\n",
       "    <tr>\n",
       "      <th>4</th>\n",
       "      <td>0000000741</td>\n",
       "      <td>3.0</td>\n",
       "      <td>2018.0</td>\n",
       "      <td>2018-03-29</td>\n",
       "      <td>37</td>\n",
       "      <td>1202.95</td>\n",
       "      <td>46.305000</td>\n",
       "      <td>14.260138</td>\n",
       "      <td>203.351536</td>\n",
       "      <td>575.79</td>\n",
       "      <td>15.561892</td>\n",
       "      <td>10.335407</td>\n",
       "      <td>106.820633</td>\n",
       "      <td>1</td>\n",
       "      <td>1</td>\n",
       "      <td>1</td>\n",
       "      <td>1</td>\n",
       "      <td>1</td>\n",
       "    </tr>\n",
       "  </tbody>\n",
       "</table>\n",
       "</div>"
      ],
      "text/plain": [
       "        ILINK  REF_DATE_MONTH  REF_DATE_YEAR MOST_RECENT_PAST_ORDER_DATE  NUM_PAST_ORDERS  SUM_PAST_SHIPPED_SOLD_AMT  AVG_PAST_SHIPPED_SOLD_AMT  STDDEV_PAST_SHIPPED_SOLD_AMT  VAR_PAST_SHIPPED_SOLD_AMT  SUM_PAST_DISCOUNT  AVG_PAST_DISCOUNT  STDDEV_PAST_DISCOUNT  VAR_PAST_DISCOUNT  BOUGHT_DRESSES  BOUGHT_KNIT TOPS  BOUGHT_OTHER  BOUGHT_PANTS  BOUGHT_WOVEN SHIRTS\n",
       "0  0000000490             1.0         2018.0                  2018-01-10                3                     193.90                  64.633333                      4.041452                  16.333333              83.10          27.700000              1.732051           3.000000               0                 1             1             1                    0\n",
       "1  0000000490             2.0         2018.0                  2018-02-19                3                     193.90                  64.633333                      4.041452                  16.333333              83.10          27.700000              3.535534          12.500000               0                 1             1             1                    1\n",
       "2  0000000490             3.0         2018.0                  2018-03-01                4                     132.98                  39.000000                      6.951741                  48.326700              55.00          27.500000             16.007811         256.250000               0                 1             1             0                    1\n",
       "3  0000000741             1.0         2018.0                  2018-01-04                3                      75.97                  28.490000                      2.742414                   7.520833              74.00          24.666667              2.742414           7.520833               0                 0             0             0                    1\n",
       "4  0000000741             3.0         2018.0                  2018-03-29               37                    1202.95                  46.305000                     14.260138                 203.351536             575.79          15.561892             10.335407         106.820633               1                 1             1             1                    1"
      ]
     },
     "execution_count": 51,
     "metadata": {},
     "output_type": "execute_result"
    }
   ],
   "source": [
    "DF.head()"
   ]
  },
  {
   "cell_type": "code",
   "execution_count": 45,
   "metadata": {
    "collapsed": false
   },
   "outputs": [],
   "source": [
    "#random_state = 42 to insure same random split\n",
    "#X_train,X_test,y_train,y_test = train_test_split(X,y,test_size=.2,random_state=42)"
   ]
  },
  {
   "cell_type": "code",
   "execution_count": 46,
   "metadata": {
    "collapsed": true
   },
   "outputs": [],
   "source": [
    "grid = pd.read_pickle('../models/RFC_PantsVsAll_ChallengerV1_100k.pkl')"
   ]
  },
  {
   "cell_type": "code",
   "execution_count": 47,
   "metadata": {
    "collapsed": false
   },
   "outputs": [
    {
     "data": {
      "text/plain": [
       "1    26348\n",
       "0    25471\n",
       "Name: BOUGHT_PANTS, dtype: int64"
      ]
     },
     "execution_count": 47,
     "metadata": {},
     "output_type": "execute_result"
    }
   ],
   "source": [
    "y_test.value_counts()\n",
    "#print (y_test == 1).count()"
   ]
  },
  {
   "cell_type": "code",
   "execution_count": 48,
   "metadata": {
    "collapsed": false
   },
   "outputs": [
    {
     "name": "stdout",
     "output_type": "stream",
     "text": [
      "Validation Score Accuracy: 77.65% +/- 0.17%\n",
      "Train Score Accuracy: 97.51% +/- 0.01%\n"
     ]
    },
    {
     "data": {
      "image/png": "[encoded data removed]",
      "text/plain": [
       "<matplotlib.figure.Figure at 0x11b91a250>"
      ]
     },
     "metadata": {},
     "output_type": "display_data"
    },
    {
     "name": "stdout",
     "output_type": "stream",
     "text": [
      "Accuracy: 0.67\n",
      "Missclassification Rate: 0.33\n",
      "(1) Positive Rate(Recall): 0.70\n",
      "(0) Positive Rate(Sensitivity): 0.64\n",
      "Precision(proportion of predicted (1)): 0.67\n",
      "Specificity(proportion of predicted (0): 0.67\n"
     ]
    },
    {
     "data": {
      "image/png": "[encoded data removed]",
      "text/plain": [
       "<matplotlib.figure.Figure at 0x11b8c1450>"
      ]
     },
     "metadata": {},
     "output_type": "display_data"
    },
    {
     "name": "stdout",
     "output_type": "stream",
     "text": [
      "AUC(Area Under Curve) score: 0.728984\n"
     ]
    }
   ],
   "source": [
    "me.ModelEvalClassifier(grid,X_test,y_test)"
   ]
  },
  {
   "cell_type": "code",
   "execution_count": 49,
   "metadata": {
    "collapsed": true
   },
   "outputs": [],
   "source": [
    "pred = grid.predict(X_test)\n",
    "y_test_0 = y_test.value_counts()[0]\n",
    "y_test_1 = y_test.value_counts()[1]"
   ]
  },
  {
   "cell_type": "code",
   "execution_count": 50,
   "metadata": {
    "collapsed": false
   },
   "outputs": [
    {
     "data": {
      "image/png": "[encoded data removed]",
      "text/plain": [
       "<matplotlib.figure.Figure at 0x11664d810>"
      ]
     },
     "metadata": {},
     "output_type": "display_data"
    },
    {
     "name": "stdout",
     "output_type": "stream",
     "text": [
      "---Classification Report---\n",
      "             precision    recall  f1-score   support\n",
      "\n",
      "          0       0.67      0.64      0.65     25471\n",
      "          1       0.67      0.70      0.68     26348\n",
      "\n",
      "avg / total       0.67      0.67      0.67     51819\n",
      "\n"
     ]
    }
   ],
   "source": [
    "me.PlotConfusionMatrix(y_test,pred,y_test_1,y_test_0)"
   ]
  },
  {
   "cell_type": "code",
   "execution_count": null,
   "metadata": {
    "collapsed": true
   },
   "outputs": [],
   "source": []
  }
 ],
 "metadata": {
  "anaconda-cloud": {},
  "kernelspec": {
   "display_name": "Python [Root]",
   "language": "python",
   "name": "Python [Root]"
  },
  "language_info": {
   "codemirror_mode": {
    "name": "ipython",
    "version": 2
   },
   "file_extension": ".py",
   "mimetype": "text/x-python",
   "name": "python",
   "nbconvert_exporter": "python",
   "pygments_lexer": "ipython2",
   "version": "2.7.12"
  }
 },
 "nbformat": 4,
 "nbformat_minor": 2
}
