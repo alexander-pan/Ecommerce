{
 "cells": [
  {
   "cell_type": "code",
   "execution_count": 1,
   "metadata": {
    "collapsed": false
   },
   "outputs": [],
   "source": [
    "import zipfile\n",
    "import pyodbc\n",
    "import numpy as np\n",
    "import pandas as pd\n",
    "import matplotlib.pyplot as plt\n",
    "import math\n",
    "from scipy import stats\n",
    "from datetime import datetime as dt, timedelta\n",
    "from IPython.display import display, HTML\n",
    "%matplotlib inline\n",
    "pd.set_option('display.height', 1000)\n",
    "pd.set_option('display.max_rows', 500)\n",
    "pd.set_option('display.max_columns', 500)\n",
    "pd.set_option('display.width', 1000)\n",
    "\n",
    "import functions as f"
   ]
  },
  {
   "cell_type": "code",
   "execution_count": 2,
   "metadata": {
    "collapsed": false
   },
   "outputs": [],
   "source": [
    "filename = './data/Master_Data_Union_2014_2018_B_Recency_Pre2014.txt'"
   ]
  },
  {
   "cell_type": "code",
   "execution_count": 3,
   "metadata": {
    "collapsed": false
   },
   "outputs": [
    {
     "name": "stdout",
     "output_type": "stream",
     "text": [
      "CPU times: user 49.6 ms, sys: 108 ms, total: 157 ms\n",
      "Wall time: 216 ms\n"
     ]
    }
   ],
   "source": [
    "%%time\n",
    "chunksize = 10**6\n",
    "chunks = pd.read_csv(filename, chunksize=chunksize, sep='|',low_memory=False)\n",
    "#for chunk in pd.read_csv(filename,chunksize=chunksize,sep='|',low_memory=False):\n",
    "    #DF = pd.concat([DF,chunk])"
   ]
  },
  {
   "cell_type": "code",
   "execution_count": 4,
   "metadata": {
    "collapsed": false,
    "scrolled": true
   },
   "outputs": [
    {
     "name": "stdout",
     "output_type": "stream",
     "text": [
      "CPU times: user 14.7 s, sys: 5.25 s, total: 19.9 s\n",
      "Wall time: 23.1 s\n"
     ]
    }
   ],
   "source": [
    "%%time\n",
    "df = chunks.get_chunk(1000000)"
   ]
  },
  {
   "cell_type": "code",
   "execution_count": 63,
   "metadata": {
    "collapsed": false
   },
   "outputs": [
    {
     "data": {
      "text/html": [
       "<div>\n",
       "<style scoped>\n",
       "    .dataframe tbody tr th:only-of-type {\n",
       "        vertical-align: middle;\n",
       "    }\n",
       "\n",
       "    .dataframe tbody tr th {\n",
       "        vertical-align: top;\n",
       "    }\n",
       "\n",
       "    .dataframe thead th {\n",
       "        text-align: right;\n",
       "    }\n",
       "</style>\n",
       "<table border=\"1\" class=\"dataframe\">\n",
       "  <thead>\n",
       "    <tr style=\"text-align: right;\">\n",
       "      <th></th>\n",
       "      <th>BIRTH_DATE</th>\n",
       "      <th>CHANNEL</th>\n",
       "      <th>CLOSEST_STORE1_DIST</th>\n",
       "      <th>DAY_OF_THE_WK</th>\n",
       "      <th>FIRST_CATALOG_ORDER_DATE</th>\n",
       "      <th>FIRST_ORDER_CHANNEL</th>\n",
       "      <th>FIRST_ORDER_DATE</th>\n",
       "      <th>FIRST_RETAIL_ORDER_DATE</th>\n",
       "      <th>FIRST_WEB_ORDER_DATE</th>\n",
       "      <th>FISCAL_DAY_OF_THE_YR</th>\n",
       "      <th>FISCAL_MO</th>\n",
       "      <th>FISCAL_QTR</th>\n",
       "      <th>FISCAL_WK</th>\n",
       "      <th>FISCAL_YR</th>\n",
       "      <th>ILINK</th>\n",
       "      <th>IS_CALLABLE_IND</th>\n",
       "      <th>IS_EMAILABLE_IND</th>\n",
       "      <th>IS_JJCH_IND</th>\n",
       "      <th>JJCH_CLOSE_DATE</th>\n",
       "      <th>JJCH_OPEN_DATE</th>\n",
       "      <th>MASTER_CHANNEL</th>\n",
       "      <th>ORDER_DATE</th>\n",
       "      <th>ORDER_DETAIL_KEY</th>\n",
       "      <th>ORDER_KEY</th>\n",
       "      <th>ORIGINAL_RETAIL_PRICE_AMT</th>\n",
       "      <th>PRICE_CD</th>\n",
       "      <th>ORDER_SHIPPING_AMT</th>\n",
       "      <th>PAY_TYPE_CD</th>\n",
       "      <th>SHIPPED_COST_AMT</th>\n",
       "      <th>SHIPPED_GROSS_AMT</th>\n",
       "      <th>SHIPPED_QTY</th>\n",
       "      <th>SHIPPED_SOLD_AMT</th>\n",
       "      <th>SKU_CD</th>\n",
       "      <th>STATE</th>\n",
       "      <th>STYLE_NB</th>\n",
       "      <th>ZIP</th>\n",
       "      <th>FABRIC_CATEGORY_DESC</th>\n",
       "      <th>BODY_NB</th>\n",
       "      <th>DESCRIPTION</th>\n",
       "      <th>EXTENDED_SIZE_DESC</th>\n",
       "      <th>COLOR_FAMILY_DESC</th>\n",
       "      <th>END_USE_DESC</th>\n",
       "      <th>STYLETYPEDESC</th>\n",
       "      <th>CLASS_NAME</th>\n",
       "      <th>DEPARTMENT_NAME</th>\n",
       "      <th>Source</th>\n",
       "      <th>Days_Lapsed</th>\n",
       "      <th>Days_Lapsed_Known</th>\n",
       "      <th>Days_Lapsed_LB</th>\n",
       "      <th>Recency_Month</th>\n",
       "      <th>Recency_Quarter</th>\n",
       "      <th>Recency_Year</th>\n",
       "      <th>PRIOR_ORDER_DATE</th>\n",
       "      <th>margin</th>\n",
       "      <th>discount</th>\n",
       "      <th>markdown</th>\n",
       "      <th>discount_plus</th>\n",
       "    </tr>\n",
       "  </thead>\n",
       "  <tbody>\n",
       "    <tr>\n",
       "      <th>0</th>\n",
       "      <td>1967-06-29</td>\n",
       "      <td>W</td>\n",
       "      <td>20.5</td>\n",
       "      <td>Monday</td>\n",
       "      <td>2005-06-10</td>\n",
       "      <td>R</td>\n",
       "      <td>2005-05-18</td>\n",
       "      <td>2005-05-18</td>\n",
       "      <td>2017-01-02</td>\n",
       "      <td>338</td>\n",
       "      <td>12</td>\n",
       "      <td>4</td>\n",
       "      <td>49</td>\n",
       "      <td>2016</td>\n",
       "      <td>4</td>\n",
       "      <td>Y</td>\n",
       "      <td>Y</td>\n",
       "      <td>NaN</td>\n",
       "      <td>NaN</td>\n",
       "      <td>NaN</td>\n",
       "      <td>D</td>\n",
       "      <td>2017-01-02</td>\n",
       "      <td>6258484654</td>\n",
       "      <td>7094417803</td>\n",
       "      <td>79.0</td>\n",
       "      <td>SP</td>\n",
       "      <td>0.0</td>\n",
       "      <td>MC</td>\n",
       "      <td>16.1729</td>\n",
       "      <td>49.99</td>\n",
       "      <td>1</td>\n",
       "      <td>35.99</td>\n",
       "      <td>07569114XL</td>\n",
       "      <td>MA</td>\n",
       "      <td>75691</td>\n",
       "      <td>1473</td>\n",
       "      <td>Cotton/Cotton Bl</td>\n",
       "      <td>75691</td>\n",
       "      <td>Plaid Double-Cloth Long Tunic</td>\n",
       "      <td>Misses</td>\n",
       "      <td>Blue</td>\n",
       "      <td>Core</td>\n",
       "      <td>Tops</td>\n",
       "      <td>Long Sleeve Shirts</td>\n",
       "      <td>Woven Shirts</td>\n",
       "      <td>3</td>\n",
       "      <td>4247</td>\n",
       "      <td>0</td>\n",
       "      <td>1066.0</td>\n",
       "      <td>React</td>\n",
       "      <td>React</td>\n",
       "      <td>React</td>\n",
       "      <td>6/10/2005</td>\n",
       "      <td>19.8171</td>\n",
       "      <td>14.0</td>\n",
       "      <td>29.01</td>\n",
       "      <td>43.01</td>\n",
       "    </tr>\n",
       "    <tr>\n",
       "      <th>1</th>\n",
       "      <td>1967-06-29</td>\n",
       "      <td>W</td>\n",
       "      <td>20.5</td>\n",
       "      <td>Monday</td>\n",
       "      <td>2005-06-10</td>\n",
       "      <td>R</td>\n",
       "      <td>2005-05-18</td>\n",
       "      <td>2005-05-18</td>\n",
       "      <td>2017-01-02</td>\n",
       "      <td>338</td>\n",
       "      <td>12</td>\n",
       "      <td>4</td>\n",
       "      <td>49</td>\n",
       "      <td>2016</td>\n",
       "      <td>4</td>\n",
       "      <td>Y</td>\n",
       "      <td>Y</td>\n",
       "      <td>NaN</td>\n",
       "      <td>NaN</td>\n",
       "      <td>NaN</td>\n",
       "      <td>D</td>\n",
       "      <td>2017-01-02</td>\n",
       "      <td>6256936659</td>\n",
       "      <td>7094417803</td>\n",
       "      <td>79.0</td>\n",
       "      <td>SP</td>\n",
       "      <td>0.0</td>\n",
       "      <td>MC</td>\n",
       "      <td>16.1900</td>\n",
       "      <td>59.99</td>\n",
       "      <td>1</td>\n",
       "      <td>35.99</td>\n",
       "      <td>07569114XXL</td>\n",
       "      <td>MA</td>\n",
       "      <td>75691</td>\n",
       "      <td>1473</td>\n",
       "      <td>Cotton/Cotton Bl</td>\n",
       "      <td>75691</td>\n",
       "      <td>Plaid Double-Cloth Long Tunic</td>\n",
       "      <td>Misses</td>\n",
       "      <td>Blue</td>\n",
       "      <td>Core</td>\n",
       "      <td>Tops</td>\n",
       "      <td>Long Sleeve Shirts</td>\n",
       "      <td>Woven Shirts</td>\n",
       "      <td>3</td>\n",
       "      <td>4247</td>\n",
       "      <td>0</td>\n",
       "      <td>1066.0</td>\n",
       "      <td>React</td>\n",
       "      <td>React</td>\n",
       "      <td>React</td>\n",
       "      <td>6/10/2005</td>\n",
       "      <td>19.8000</td>\n",
       "      <td>24.0</td>\n",
       "      <td>19.01</td>\n",
       "      <td>43.01</td>\n",
       "    </tr>\n",
       "    <tr>\n",
       "      <th>2</th>\n",
       "      <td>1967-06-29</td>\n",
       "      <td>W</td>\n",
       "      <td>20.5</td>\n",
       "      <td>Monday</td>\n",
       "      <td>2005-06-10</td>\n",
       "      <td>R</td>\n",
       "      <td>2005-05-18</td>\n",
       "      <td>2005-05-18</td>\n",
       "      <td>2017-01-02</td>\n",
       "      <td>338</td>\n",
       "      <td>12</td>\n",
       "      <td>4</td>\n",
       "      <td>49</td>\n",
       "      <td>2016</td>\n",
       "      <td>4</td>\n",
       "      <td>Y</td>\n",
       "      <td>Y</td>\n",
       "      <td>NaN</td>\n",
       "      <td>NaN</td>\n",
       "      <td>NaN</td>\n",
       "      <td>D</td>\n",
       "      <td>2017-01-02</td>\n",
       "      <td>6256936661</td>\n",
       "      <td>7094417803</td>\n",
       "      <td>79.0</td>\n",
       "      <td>SP</td>\n",
       "      <td>0.0</td>\n",
       "      <td>MC</td>\n",
       "      <td>18.6200</td>\n",
       "      <td>39.99</td>\n",
       "      <td>1</td>\n",
       "      <td>23.99</td>\n",
       "      <td>0808010OE1SZ</td>\n",
       "      <td>MA</td>\n",
       "      <td>80801</td>\n",
       "      <td>1473</td>\n",
       "      <td>Wool/Wool Bl</td>\n",
       "      <td>80801</td>\n",
       "      <td>Terrace Scroll Scarf</td>\n",
       "      <td>No Ext Size</td>\n",
       "      <td>Red</td>\n",
       "      <td>Core</td>\n",
       "      <td>Accessories</td>\n",
       "      <td>Other Scarves</td>\n",
       "      <td>Fashion Scarves</td>\n",
       "      <td>3</td>\n",
       "      <td>4247</td>\n",
       "      <td>0</td>\n",
       "      <td>1066.0</td>\n",
       "      <td>React</td>\n",
       "      <td>React</td>\n",
       "      <td>React</td>\n",
       "      <td>6/10/2005</td>\n",
       "      <td>5.3700</td>\n",
       "      <td>16.0</td>\n",
       "      <td>39.01</td>\n",
       "      <td>55.01</td>\n",
       "    </tr>\n",
       "    <tr>\n",
       "      <th>3</th>\n",
       "      <td>1967-06-29</td>\n",
       "      <td>W</td>\n",
       "      <td>20.5</td>\n",
       "      <td>Monday</td>\n",
       "      <td>2005-06-10</td>\n",
       "      <td>R</td>\n",
       "      <td>2005-05-18</td>\n",
       "      <td>2005-05-18</td>\n",
       "      <td>2017-01-02</td>\n",
       "      <td>338</td>\n",
       "      <td>12</td>\n",
       "      <td>4</td>\n",
       "      <td>49</td>\n",
       "      <td>2016</td>\n",
       "      <td>4</td>\n",
       "      <td>Y</td>\n",
       "      <td>Y</td>\n",
       "      <td>NaN</td>\n",
       "      <td>NaN</td>\n",
       "      <td>NaN</td>\n",
       "      <td>D</td>\n",
       "      <td>2017-01-02</td>\n",
       "      <td>6258484652</td>\n",
       "      <td>7094417803</td>\n",
       "      <td>89.0</td>\n",
       "      <td>SP</td>\n",
       "      <td>0.0</td>\n",
       "      <td>MC</td>\n",
       "      <td>NaN</td>\n",
       "      <td>0.00</td>\n",
       "      <td>0</td>\n",
       "      <td>0.00</td>\n",
       "      <td>075781LLBL</td>\n",
       "      <td>MA</td>\n",
       "      <td>75781</td>\n",
       "      <td>1473</td>\n",
       "      <td>Synthetic/Syn Blend</td>\n",
       "      <td>75781</td>\n",
       "      <td>Grace Sweater Tunic</td>\n",
       "      <td>Misses</td>\n",
       "      <td>Red</td>\n",
       "      <td>Core</td>\n",
       "      <td>Tops</td>\n",
       "      <td>Pullover Sweaters</td>\n",
       "      <td>Sweaters</td>\n",
       "      <td>3</td>\n",
       "      <td>4247</td>\n",
       "      <td>0</td>\n",
       "      <td>1066.0</td>\n",
       "      <td>React</td>\n",
       "      <td>React</td>\n",
       "      <td>React</td>\n",
       "      <td>6/10/2005</td>\n",
       "      <td>NaN</td>\n",
       "      <td>0.0</td>\n",
       "      <td>89.00</td>\n",
       "      <td>89.00</td>\n",
       "    </tr>\n",
       "    <tr>\n",
       "      <th>4</th>\n",
       "      <td>1967-06-29</td>\n",
       "      <td>W</td>\n",
       "      <td>20.5</td>\n",
       "      <td>Monday</td>\n",
       "      <td>2005-06-10</td>\n",
       "      <td>R</td>\n",
       "      <td>2005-05-18</td>\n",
       "      <td>2005-05-18</td>\n",
       "      <td>2017-01-02</td>\n",
       "      <td>338</td>\n",
       "      <td>12</td>\n",
       "      <td>4</td>\n",
       "      <td>49</td>\n",
       "      <td>2016</td>\n",
       "      <td>4</td>\n",
       "      <td>Y</td>\n",
       "      <td>Y</td>\n",
       "      <td>NaN</td>\n",
       "      <td>NaN</td>\n",
       "      <td>NaN</td>\n",
       "      <td>D</td>\n",
       "      <td>2017-01-02</td>\n",
       "      <td>6256936660</td>\n",
       "      <td>7094417803</td>\n",
       "      <td>89.0</td>\n",
       "      <td>SP</td>\n",
       "      <td>0.0</td>\n",
       "      <td>MC</td>\n",
       "      <td>20.1079</td>\n",
       "      <td>69.99</td>\n",
       "      <td>1</td>\n",
       "      <td>41.99</td>\n",
       "      <td>075781LLBXL</td>\n",
       "      <td>MA</td>\n",
       "      <td>75781</td>\n",
       "      <td>1473</td>\n",
       "      <td>Synthetic/Syn Blend</td>\n",
       "      <td>75781</td>\n",
       "      <td>Grace Sweater Tunic</td>\n",
       "      <td>Misses</td>\n",
       "      <td>Red</td>\n",
       "      <td>Core</td>\n",
       "      <td>Tops</td>\n",
       "      <td>Pullover Sweaters</td>\n",
       "      <td>Sweaters</td>\n",
       "      <td>3</td>\n",
       "      <td>4247</td>\n",
       "      <td>0</td>\n",
       "      <td>1066.0</td>\n",
       "      <td>React</td>\n",
       "      <td>React</td>\n",
       "      <td>React</td>\n",
       "      <td>6/10/2005</td>\n",
       "      <td>21.8821</td>\n",
       "      <td>28.0</td>\n",
       "      <td>19.01</td>\n",
       "      <td>47.01</td>\n",
       "    </tr>\n",
       "  </tbody>\n",
       "</table>\n",
       "</div>"
      ],
      "text/plain": [
       "   BIRTH_DATE CHANNEL  CLOSEST_STORE1_DIST DAY_OF_THE_WK FIRST_CATALOG_ORDER_DATE FIRST_ORDER_CHANNEL FIRST_ORDER_DATE FIRST_RETAIL_ORDER_DATE FIRST_WEB_ORDER_DATE  FISCAL_DAY_OF_THE_YR  FISCAL_MO  FISCAL_QTR  FISCAL_WK  FISCAL_YR  ILINK IS_CALLABLE_IND IS_EMAILABLE_IND IS_JJCH_IND JJCH_CLOSE_DATE JJCH_OPEN_DATE MASTER_CHANNEL  ORDER_DATE  ORDER_DETAIL_KEY   ORDER_KEY  ORIGINAL_RETAIL_PRICE_AMT PRICE_CD  ORDER_SHIPPING_AMT PAY_TYPE_CD  SHIPPED_COST_AMT  SHIPPED_GROSS_AMT  SHIPPED_QTY  SHIPPED_SOLD_AMT        SKU_CD STATE  STYLE_NB   ZIP FABRIC_CATEGORY_DESC  BODY_NB                    DESCRIPTION EXTENDED_SIZE_DESC COLOR_FAMILY_DESC END_USE_DESC STYLETYPEDESC          CLASS_NAME  DEPARTMENT_NAME  Source  Days_Lapsed  Days_Lapsed_Known  Days_Lapsed_LB Recency_Month Recency_Quarter Recency_Year PRIOR_ORDER_DATE   margin  discount  markdown  discount_plus\n",
       "0  1967-06-29       W                 20.5        Monday               2005-06-10                   R       2005-05-18              2005-05-18           2017-01-02                   338         12           4         49       2016      4               Y                Y         NaN             NaN            NaN              D  2017-01-02        6258484654  7094417803                       79.0       SP                 0.0          MC           16.1729              49.99            1             35.99    07569114XL    MA     75691  1473     Cotton/Cotton Bl    75691  Plaid Double-Cloth Long Tunic             Misses              Blue         Core          Tops  Long Sleeve Shirts     Woven Shirts       3         4247                  0          1066.0         React           React        React        6/10/2005  19.8171      14.0     29.01          43.01\n",
       "1  1967-06-29       W                 20.5        Monday               2005-06-10                   R       2005-05-18              2005-05-18           2017-01-02                   338         12           4         49       2016      4               Y                Y         NaN             NaN            NaN              D  2017-01-02        6256936659  7094417803                       79.0       SP                 0.0          MC           16.1900              59.99            1             35.99   07569114XXL    MA     75691  1473     Cotton/Cotton Bl    75691  Plaid Double-Cloth Long Tunic             Misses              Blue         Core          Tops  Long Sleeve Shirts     Woven Shirts       3         4247                  0          1066.0         React           React        React        6/10/2005  19.8000      24.0     19.01          43.01\n",
       "2  1967-06-29       W                 20.5        Monday               2005-06-10                   R       2005-05-18              2005-05-18           2017-01-02                   338         12           4         49       2016      4               Y                Y         NaN             NaN            NaN              D  2017-01-02        6256936661  7094417803                       79.0       SP                 0.0          MC           18.6200              39.99            1             23.99  0808010OE1SZ    MA     80801  1473         Wool/Wool Bl    80801           Terrace Scroll Scarf        No Ext Size               Red         Core   Accessories       Other Scarves  Fashion Scarves       3         4247                  0          1066.0         React           React        React        6/10/2005   5.3700      16.0     39.01          55.01\n",
       "3  1967-06-29       W                 20.5        Monday               2005-06-10                   R       2005-05-18              2005-05-18           2017-01-02                   338         12           4         49       2016      4               Y                Y         NaN             NaN            NaN              D  2017-01-02        6258484652  7094417803                       89.0       SP                 0.0          MC               NaN               0.00            0              0.00    075781LLBL    MA     75781  1473  Synthetic/Syn Blend    75781            Grace Sweater Tunic             Misses               Red         Core          Tops   Pullover Sweaters         Sweaters       3         4247                  0          1066.0         React           React        React        6/10/2005      NaN       0.0     89.00          89.00\n",
       "4  1967-06-29       W                 20.5        Monday               2005-06-10                   R       2005-05-18              2005-05-18           2017-01-02                   338         12           4         49       2016      4               Y                Y         NaN             NaN            NaN              D  2017-01-02        6256936660  7094417803                       89.0       SP                 0.0          MC           20.1079              69.99            1             41.99   075781LLBXL    MA     75781  1473  Synthetic/Syn Blend    75781            Grace Sweater Tunic             Misses               Red         Core          Tops   Pullover Sweaters         Sweaters       3         4247                  0          1066.0         React           React        React        6/10/2005  21.8821      28.0     19.01          47.01"
      ]
     },
     "execution_count": 63,
     "metadata": {},
     "output_type": "execute_result"
    }
   ],
   "source": [
    "df.head()"
   ]
  },
  {
   "cell_type": "code",
   "execution_count": null,
   "metadata": {
    "collapsed": true
   },
   "outputs": [],
   "source": [
    "#only selecting orders that happened between may 2017-july 2017 for sample size"
   ]
  },
  {
   "cell_type": "code",
   "execution_count": 5,
   "metadata": {
    "collapsed": false
   },
   "outputs": [
    {
     "name": "stdout",
     "output_type": "stream",
     "text": [
      "CPU times: user 13.5 s, sys: 743 ms, total: 14.2 s\n",
      "Wall time: 14.6 s\n"
     ]
    }
   ],
   "source": [
    "%%time\n",
    "DF_SAMPLE = df.loc[df.IS_EMAILABLE_IND=='Y']\n",
    "DF = DF_SAMPLE.copy()\n",
    "DF['ORDER_DATE'] = DF.ORDER_DATE.apply(lambda x: dt.strptime(x,'%Y-%m-%d'))\n",
    "df1 = DF.loc[(DF.ORDER_DATE >= dt(2017,5,1).date()) & \n",
    "              (DF.ORDER_DATE < dt(2017,8,1).date())]\n",
    "df2 = DF.loc[(DF.ORDER_DATE >= dt(2017,5,1).date()) & \n",
    "              (DF.ORDER_DATE < dt(2017,6,1).date())]\n",
    "df3 = DF.loc[(DF.ORDER_DATE >= dt(2017,6,1).date()) & \n",
    "              (DF.ORDER_DATE < dt(2017,7,1).date())]\n",
    "df4 = DF.loc[(DF.ORDER_DATE >= dt(2017,7,1).date()) & \n",
    "              (DF.ORDER_DATE < dt(2017,8,1).date())]\n",
    "#df1 = df1.loc[(df1.ORDER_DATE.dt.month >= 5) & (df1.ORDER_DATE.dt.month < 8)]\n",
    "#df1 = df1[~df1.BIRTH_DATE.isnull()]"
   ]
  },
  {
   "cell_type": "code",
   "execution_count": 285,
   "metadata": {
    "collapsed": false
   },
   "outputs": [
    {
     "name": "stdout",
     "output_type": "stream",
     "text": [
      "unique customer ids: 5597\n",
      "Number emailable: 40180\n"
     ]
    }
   ],
   "source": [
    "#print 'unique customer ids:', len(df1.ILINK.unique())\n",
    "#print 'Number emailable:', df1.shape[0]"
   ]
  },
  {
   "cell_type": "code",
   "execution_count": 286,
   "metadata": {
    "collapsed": false,
    "scrolled": true
   },
   "outputs": [],
   "source": [
    "df1['BIRTH_DATE'] = df1.BIRTH_DATE.apply(lambda x: dt.strptime(x,'%Y-%m-%d').date())\n",
    "#df1['FIRST_CATALOG_DATE'] = df1.FIRST_CATALOG_DATE.apply(lambda x: dt.strptime(x,'%Y-%m-%d').date())\n",
    "#df1['ORDER_DATE'] = df1.ORDER_DATE.apply(lambda x: dt.strptime(x,'%Y-%m-%d').date())\n",
    "df1['FIRST_ORDER_DATE'] = df1.FIRST_ORDER_DATE.apply(lambda x: dt.strptime(x,'%Y-%m-%d').date())\n",
    "#df1['FIRST_RETAIL_ORDER_DATE'] = df1.FIRST_RETAIL_ORDER_DATE.apply(lambda x: dt.strptime(x,'%Y-%m-%d').date())\n",
    "#df1['FIRST_WEB_ORDER_DATE'] = df1.FIRST_WEB_ORDER_DATE.apply(lambda x: dt.strptime(x,'%Y-%m-%d').date())\n",
    "#df1['JJCH_CLOSE_DATE'] = df1.JJCH_CLOSE_DATE.apply(lambda x: dt.strptime(x,'%Y-%m-%d').date())\n",
    "#df1['JJCH_OPEN_DATE'] = df1.JJCH_OPEN_DATE.apply(lambda x: dt.strptime(x,'%Y-%m-%d').date())\n",
    "#df1['PRIOR_ORDER_DATE'] = df1.PRIOR_ORDER_DATE.apply(lambda x: dt.strptime(x,'%m/%d/%Y').date())"
   ]
  },
  {
   "cell_type": "markdown",
   "metadata": {},
   "source": [
    "# Definitions"
   ]
  },
  {
   "cell_type": "code",
   "execution_count": 6,
   "metadata": {
    "collapsed": false
   },
   "outputs": [],
   "source": [
    "def normalize(l):\n",
    "    s = sum(l)\n",
    "    if s == 0:\n",
    "        return [0]*8\n",
    "    else:\n",
    "        return [i/s for i in l]\n",
    "\n",
    "##standardize variables\n",
    "def standardization_f(x):\n",
    "    x_bar = np.mean(x)\n",
    "    s = np.std(x)\n",
    "    if s == 0:\n",
    "        return 0\n",
    "    else:\n",
    "        x_z = (x-x_bar)/s\n",
    "    return(x_z)"
   ]
  },
  {
   "cell_type": "code",
   "execution_count": 289,
   "metadata": {
    "collapsed": true
   },
   "outputs": [],
   "source": [
    "#make empty dataframe to add onto with customer features\n",
    "columns = ['Age',\n",
    "           'WovenShirts_N','KnitTops_N','Pants_N','Dresses_N',\n",
    "           'WovenShirts_AvgN_Order','KnitTops_AvgN_Order','Pants_AvgN_Order','Dresses_AvgN_Order',\n",
    "           'WovenShirts_Total','KnitTops_Total','Pants_Total','Dresses_Total',\n",
    "           'WovenShirts_Amt_Order','KnitTops_Amt_Order','Pants_Amt_Order','Dresses_Amt_Order',\n",
    "           'WovenShirts_AvgAmt','KnitTops_AvgAmt','Pants_AvgAmt','Dresses_AvgAmt']\n"
   ]
  },
  {
   "cell_type": "markdown",
   "metadata": {},
   "source": [
    "# Exploration\n"
   ]
  },
  {
   "cell_type": "code",
   "execution_count": 410,
   "metadata": {
    "collapsed": false
   },
   "outputs": [
    {
     "data": {
      "text/plain": [
       "<module 'functions' from 'functions.py'>"
      ]
     },
     "execution_count": 410,
     "metadata": {},
     "output_type": "execute_result"
    }
   ],
   "source": [
    "reload(f)"
   ]
  },
  {
   "cell_type": "code",
   "execution_count": null,
   "metadata": {
    "collapsed": true
   },
   "outputs": [],
   "source": [
    "#Get Pref/rating over course of May 1 2017 - July 31 2017"
   ]
  },
  {
   "cell_type": "code",
   "execution_count": 133,
   "metadata": {
    "collapsed": true
   },
   "outputs": [],
   "source": [
    "ilinks = df1.ILINK.unique().tolist()\n",
    "users = ilinks[:1000] #sample "
   ]
  },
  {
   "cell_type": "code",
   "execution_count": 7,
   "metadata": {
    "collapsed": false
   },
   "outputs": [
    {
     "name": "stdout",
     "output_type": "stream",
     "text": [
      "1286\n"
     ]
    }
   ],
   "source": [
    "mergedf = df2.merge(df3,on='ILINK')\n",
    "ilinks = mergedf.ILINK.unique().tolist()\n",
    "users = ilinks[:1000]#sample\n",
    "print len(ilinks)"
   ]
  },
  {
   "cell_type": "code",
   "execution_count": 8,
   "metadata": {
    "collapsed": false,
    "scrolled": true
   },
   "outputs": [
    {
     "name": "stdout",
     "output_type": "stream",
     "text": [
      "CPU times: user 2min 37s, sys: 2.2 s, total: 2min 39s\n",
      "Wall time: 2min 51s\n"
     ]
    }
   ],
   "source": [
    "%%time\n",
    "cols = ['Ilink','N_ws','n_ws','S_ws','s_ws','si_ws','D_ws','d_ws','di_ws','R_ws',\n",
    "        'N_kt','n_kt','S_kt','s_kt','si_kt','D_kt','d_kt','di_kt','R_kt',\n",
    "        'N_d','n_d','S_d','s_d','si_d','D_d','d_d','di_d','R_d',\n",
    "        'N_p','n_p','S_p','s_p','si_p','D_p','d_p','di_p','R_p']\n",
    "#cols2 = ['Ilink','N_ws','S_ws','s_ws','si_ws','R_ws',\n",
    "#        'N_kt','S_kt','s_kt','si_kt','R_kt',\n",
    "#        'N_d','S_d','s_d','si_d','R_d',\n",
    "#        'N_p','S_p','s_p','si_p','R_p']\n",
    "#cols = ['Ilink','S_ws','s_ws','si_ws','D_ws','d_ws','di_ws','R_ws',\n",
    "#       'S_kt','s_kt','si_kt','D_kt','d_kt','di_kt','R_kt',\n",
    "#        'S_d','s_d','si_d','D_d','d_d','di_d','R_d',\n",
    "#        'S_p','s_p','si_p','D_p','d_p','di_p','R_p']\n",
    "table = pd.DataFrame([],columns=cols)\n",
    "\n",
    "#need to create rows that describe a customers freq and sales of items in specific departments\n",
    "depts = ['Woven Shirts','Knit Tops','Dresses','Pants']\n",
    "K = 4 #Number of Depts/topics\n",
    "UserSigma = {}\n",
    "for ilink in users:\n",
    "    dfCust = df1.loc[(df1.ILINK==ilink)]\n",
    "    N_u = dfCust.shape[0]#sum([f.getTotalFreq(dfCust,dept) for dept in depts])\n",
    "    fts = []\n",
    "    #fts2 = []\n",
    "    UserSigma[ilink] = {}\n",
    "    for dept in depts:\n",
    "        N = f.getTotalFreq(dfCust,dept)\n",
    "        n = f.getAvgFreqOrder(dfCust,dept)\n",
    "        O,Q,G,S,D = f.getTotalAmts(dfCust,dept)\n",
    "        o,q,g,s,d = f.getAvgAmtsOrder(dfCust,dept)\n",
    "        oi,qi,gi,si,di = f.getAvgAmtItem(dfCust,dept)\n",
    "        alpha = [N,n,S,s,si,D,d,di]\n",
    "        #alpha = [S,s,si,D,d,di]\n",
    "        #alpha = [N,S,s,si]\n",
    "        alpha = [0 if math.isnan(x) else x for x in alpha]\n",
    "        alpha1 = np.array(normalize(alpha))\n",
    "        sigma = (N + alpha1)/(N_u + K*alpha1)\n",
    "        UserSigma[ilink][dept] = sigma\n",
    "        pref = np.dot(sigma,alpha1).round(2)\n",
    "        #print ilink, alpha1\n",
    "        #print sigma\n",
    "        #print ''\n",
    "        fts.append(alpha+[pref])\n",
    "        #fts2.append(alpha)\n",
    "    \n",
    "    \"\"\"u,s,vt = np.linalg.svd(fts2)\n",
    "    for i,row in enumerate(fts2):\n",
    "        fts2[i] = fts2[i] + [np.dot(u[i],vt[i]).round(3)]\"\"\"\n",
    "    row = [i for sub in fts for i in sub]\n",
    "    row.insert(0,ilink)\n",
    "    temp = pd.DataFrame([tuple(row)],columns=cols)\n",
    "    table = pd.concat([table,temp])"
   ]
  },
  {
   "cell_type": "code",
   "execution_count": 9,
   "metadata": {
    "collapsed": true
   },
   "outputs": [],
   "source": [
    "cols = ['N_ws','n_ws','S_ws','s_ws','si_ws','D_ws','d_ws','di_ws','R_ws',\n",
    "        'N_kt','n_kt','S_kt','s_kt','si_kt','D_kt','d_kt','di_kt','R_kt',\n",
    "        'N_d','n_d','S_d','s_d','si_d','D_d','d_d','di_d','R_d',\n",
    "        'N_p','n_p','S_p','s_p','si_p','D_p','d_p','di_p','R_p']\n",
    "table = table.loc[~(table[cols]==0).all(axis=1)]"
   ]
  },
  {
   "cell_type": "code",
   "execution_count": 10,
   "metadata": {
    "collapsed": true
   },
   "outputs": [],
   "source": [
    "table.reset_index(drop=True,inplace=True)"
   ]
  },
  {
   "cell_type": "code",
   "execution_count": 62,
   "metadata": {
    "collapsed": false
   },
   "outputs": [
    {
     "data": {
      "text/html": [
       "<div>\n",
       "<style scoped>\n",
       "    .dataframe tbody tr th:only-of-type {\n",
       "        vertical-align: middle;\n",
       "    }\n",
       "\n",
       "    .dataframe tbody tr th {\n",
       "        vertical-align: top;\n",
       "    }\n",
       "\n",
       "    .dataframe thead th {\n",
       "        text-align: right;\n",
       "    }\n",
       "</style>\n",
       "<table border=\"1\" class=\"dataframe\">\n",
       "  <thead>\n",
       "    <tr style=\"text-align: right;\">\n",
       "      <th></th>\n",
       "      <th>Ilink</th>\n",
       "      <th>N_ws</th>\n",
       "      <th>n_ws</th>\n",
       "      <th>S_ws</th>\n",
       "      <th>s_ws</th>\n",
       "      <th>si_ws</th>\n",
       "      <th>D_ws</th>\n",
       "      <th>d_ws</th>\n",
       "      <th>di_ws</th>\n",
       "      <th>R_ws</th>\n",
       "      <th>N_kt</th>\n",
       "      <th>n_kt</th>\n",
       "      <th>S_kt</th>\n",
       "      <th>s_kt</th>\n",
       "      <th>si_kt</th>\n",
       "      <th>D_kt</th>\n",
       "      <th>d_kt</th>\n",
       "      <th>di_kt</th>\n",
       "      <th>R_kt</th>\n",
       "      <th>N_d</th>\n",
       "      <th>n_d</th>\n",
       "      <th>S_d</th>\n",
       "      <th>s_d</th>\n",
       "      <th>si_d</th>\n",
       "      <th>D_d</th>\n",
       "      <th>d_d</th>\n",
       "      <th>di_d</th>\n",
       "      <th>R_d</th>\n",
       "      <th>N_p</th>\n",
       "      <th>n_p</th>\n",
       "      <th>S_p</th>\n",
       "      <th>s_p</th>\n",
       "      <th>si_p</th>\n",
       "      <th>D_p</th>\n",
       "      <th>d_p</th>\n",
       "      <th>di_p</th>\n",
       "      <th>R_p</th>\n",
       "    </tr>\n",
       "  </thead>\n",
       "  <tbody>\n",
       "    <tr>\n",
       "      <th>0</th>\n",
       "      <td>800</td>\n",
       "      <td>3</td>\n",
       "      <td>2.0</td>\n",
       "      <td>139.12</td>\n",
       "      <td>69.56</td>\n",
       "      <td>46.37</td>\n",
       "      <td>77.88</td>\n",
       "      <td>38.94</td>\n",
       "      <td>25.96</td>\n",
       "      <td>0.67</td>\n",
       "      <td>0</td>\n",
       "      <td>0.0</td>\n",
       "      <td>0.00</td>\n",
       "      <td>0.00</td>\n",
       "      <td>0</td>\n",
       "      <td>0.00</td>\n",
       "      <td>0.00</td>\n",
       "      <td>0</td>\n",
       "      <td>0</td>\n",
       "      <td>0</td>\n",
       "      <td>0.0</td>\n",
       "      <td>0.0</td>\n",
       "      <td>0.00</td>\n",
       "      <td>0</td>\n",
       "      <td>0.0</td>\n",
       "      <td>0.0</td>\n",
       "      <td>0</td>\n",
       "      <td>0</td>\n",
       "      <td>0</td>\n",
       "      <td>0.0</td>\n",
       "      <td>0.00</td>\n",
       "      <td>0.00</td>\n",
       "      <td>0</td>\n",
       "      <td>0.00</td>\n",
       "      <td>0.00</td>\n",
       "      <td>0</td>\n",
       "      <td>0</td>\n",
       "    </tr>\n",
       "    <tr>\n",
       "      <th>1</th>\n",
       "      <td>825</td>\n",
       "      <td>1</td>\n",
       "      <td>0.0</td>\n",
       "      <td>34.19</td>\n",
       "      <td>8.55</td>\n",
       "      <td>34.19</td>\n",
       "      <td>25.80</td>\n",
       "      <td>6.45</td>\n",
       "      <td>25.80</td>\n",
       "      <td>0.08</td>\n",
       "      <td>2</td>\n",
       "      <td>0.0</td>\n",
       "      <td>46.20</td>\n",
       "      <td>11.55</td>\n",
       "      <td>23.1</td>\n",
       "      <td>32.79</td>\n",
       "      <td>8.20</td>\n",
       "      <td>16.39</td>\n",
       "      <td>0.15</td>\n",
       "      <td>0</td>\n",
       "      <td>0.0</td>\n",
       "      <td>0.0</td>\n",
       "      <td>0.00</td>\n",
       "      <td>0</td>\n",
       "      <td>0.0</td>\n",
       "      <td>0.0</td>\n",
       "      <td>0</td>\n",
       "      <td>0</td>\n",
       "      <td>4</td>\n",
       "      <td>1.0</td>\n",
       "      <td>138.87</td>\n",
       "      <td>34.72</td>\n",
       "      <td>34.72</td>\n",
       "      <td>100.10</td>\n",
       "      <td>25.02</td>\n",
       "      <td>25.02</td>\n",
       "      <td>0.28</td>\n",
       "    </tr>\n",
       "    <tr>\n",
       "      <th>2</th>\n",
       "      <td>845</td>\n",
       "      <td>8</td>\n",
       "      <td>3.0</td>\n",
       "      <td>292.99</td>\n",
       "      <td>97.66</td>\n",
       "      <td>36.62</td>\n",
       "      <td>162.00</td>\n",
       "      <td>54.00</td>\n",
       "      <td>20.25</td>\n",
       "      <td>0.22</td>\n",
       "      <td>4</td>\n",
       "      <td>1.0</td>\n",
       "      <td>118.75</td>\n",
       "      <td>39.58</td>\n",
       "      <td>29.69</td>\n",
       "      <td>69.24</td>\n",
       "      <td>23.08</td>\n",
       "      <td>17.31</td>\n",
       "      <td>0.11</td>\n",
       "      <td>0</td>\n",
       "      <td>0.0</td>\n",
       "      <td>0.0</td>\n",
       "      <td>0.00</td>\n",
       "      <td>0</td>\n",
       "      <td>0.0</td>\n",
       "      <td>0.0</td>\n",
       "      <td>0</td>\n",
       "      <td>0</td>\n",
       "      <td>14</td>\n",
       "      <td>5.0</td>\n",
       "      <td>514.21</td>\n",
       "      <td>171.40</td>\n",
       "      <td>36.73</td>\n",
       "      <td>265.79</td>\n",
       "      <td>88.60</td>\n",
       "      <td>18.99</td>\n",
       "      <td>0.37</td>\n",
       "    </tr>\n",
       "    <tr>\n",
       "      <th>3</th>\n",
       "      <td>872</td>\n",
       "      <td>1</td>\n",
       "      <td>0.0</td>\n",
       "      <td>52.53</td>\n",
       "      <td>6.57</td>\n",
       "      <td>52.53</td>\n",
       "      <td>26.47</td>\n",
       "      <td>3.31</td>\n",
       "      <td>26.47</td>\n",
       "      <td>0.05</td>\n",
       "      <td>13</td>\n",
       "      <td>2.0</td>\n",
       "      <td>437.99</td>\n",
       "      <td>54.75</td>\n",
       "      <td>33.69</td>\n",
       "      <td>174.95</td>\n",
       "      <td>21.87</td>\n",
       "      <td>13.46</td>\n",
       "      <td>0.52</td>\n",
       "      <td>1</td>\n",
       "      <td>0.0</td>\n",
       "      <td>119.0</td>\n",
       "      <td>14.88</td>\n",
       "      <td>119</td>\n",
       "      <td>0.0</td>\n",
       "      <td>0.0</td>\n",
       "      <td>0</td>\n",
       "      <td>0.06</td>\n",
       "      <td>4</td>\n",
       "      <td>0.0</td>\n",
       "      <td>191.28</td>\n",
       "      <td>23.91</td>\n",
       "      <td>47.82</td>\n",
       "      <td>95.71</td>\n",
       "      <td>11.96</td>\n",
       "      <td>23.93</td>\n",
       "      <td>0.17</td>\n",
       "    </tr>\n",
       "    <tr>\n",
       "      <th>4</th>\n",
       "      <td>896</td>\n",
       "      <td>8</td>\n",
       "      <td>1.0</td>\n",
       "      <td>343.59</td>\n",
       "      <td>28.63</td>\n",
       "      <td>42.95</td>\n",
       "      <td>140.41</td>\n",
       "      <td>11.70</td>\n",
       "      <td>17.55</td>\n",
       "      <td>0.15</td>\n",
       "      <td>34</td>\n",
       "      <td>3.0</td>\n",
       "      <td>940.48</td>\n",
       "      <td>78.37</td>\n",
       "      <td>27.66</td>\n",
       "      <td>359.46</td>\n",
       "      <td>29.96</td>\n",
       "      <td>10.57</td>\n",
       "      <td>0.6</td>\n",
       "      <td>0</td>\n",
       "      <td>0.0</td>\n",
       "      <td>0.0</td>\n",
       "      <td>0.00</td>\n",
       "      <td>0</td>\n",
       "      <td>0.0</td>\n",
       "      <td>0.0</td>\n",
       "      <td>0</td>\n",
       "      <td>0</td>\n",
       "      <td>6</td>\n",
       "      <td>0.0</td>\n",
       "      <td>293.65</td>\n",
       "      <td>24.47</td>\n",
       "      <td>48.94</td>\n",
       "      <td>111.35</td>\n",
       "      <td>9.28</td>\n",
       "      <td>18.56</td>\n",
       "      <td>0.11</td>\n",
       "    </tr>\n",
       "  </tbody>\n",
       "</table>\n",
       "</div>"
      ],
      "text/plain": [
       "  Ilink N_ws  n_ws    S_ws   s_ws  si_ws    D_ws   d_ws  di_ws  R_ws N_kt  n_kt    S_kt   s_kt  si_kt    D_kt   d_kt  di_kt  R_kt N_d  n_d    S_d    s_d si_d  D_d  d_d di_d   R_d N_p  n_p     S_p     s_p   si_p     D_p    d_p   di_p   R_p\n",
       "0   800    3   2.0  139.12  69.56  46.37   77.88  38.94  25.96  0.67    0   0.0    0.00   0.00      0    0.00   0.00      0     0   0  0.0    0.0   0.00    0  0.0  0.0    0     0   0  0.0    0.00    0.00      0    0.00   0.00      0     0\n",
       "1   825    1   0.0   34.19   8.55  34.19   25.80   6.45  25.80  0.08    2   0.0   46.20  11.55   23.1   32.79   8.20  16.39  0.15   0  0.0    0.0   0.00    0  0.0  0.0    0     0   4  1.0  138.87   34.72  34.72  100.10  25.02  25.02  0.28\n",
       "2   845    8   3.0  292.99  97.66  36.62  162.00  54.00  20.25  0.22    4   1.0  118.75  39.58  29.69   69.24  23.08  17.31  0.11   0  0.0    0.0   0.00    0  0.0  0.0    0     0  14  5.0  514.21  171.40  36.73  265.79  88.60  18.99  0.37\n",
       "3   872    1   0.0   52.53   6.57  52.53   26.47   3.31  26.47  0.05   13   2.0  437.99  54.75  33.69  174.95  21.87  13.46  0.52   1  0.0  119.0  14.88  119  0.0  0.0    0  0.06   4  0.0  191.28   23.91  47.82   95.71  11.96  23.93  0.17\n",
       "4   896    8   1.0  343.59  28.63  42.95  140.41  11.70  17.55  0.15   34   3.0  940.48  78.37  27.66  359.46  29.96  10.57   0.6   0  0.0    0.0   0.00    0  0.0  0.0    0     0   6  0.0  293.65   24.47  48.94  111.35   9.28  18.56  0.11"
      ]
     },
     "execution_count": 62,
     "metadata": {},
     "output_type": "execute_result"
    }
   ],
   "source": [
    "table.head()"
   ]
  },
  {
   "cell_type": "markdown",
   "metadata": {},
   "source": [
    "# Investigating If R has any predictivability"
   ]
  },
  {
   "cell_type": "code",
   "execution_count": 12,
   "metadata": {
    "collapsed": true
   },
   "outputs": [],
   "source": [
    "def getTableRating(ilinks,dataframe):\n",
    "    cols = ['Ilink','N_ws','n_ws','S_ws','s_ws','si_ws','D_ws','d_ws','di_ws','R_ws',\n",
    "        'N_kt','n_kt','S_kt','s_kt','si_kt','D_kt','d_kt','di_kt','R_kt',\n",
    "        'N_d','n_d','S_d','s_d','si_d','D_d','d_d','di_d','R_d',\n",
    "        'N_p','n_p','S_p','s_p','si_p','D_p','d_p','di_p','R_p']\n",
    "    tab = pd.DataFrame([],columns=cols)\n",
    "    #need to create rows that describe a customers freq and sales of items in specific departments\n",
    "    depts = ['Woven Shirts','Knit Tops','Dresses','Pants']\n",
    "    K = 4 #Number of Depts/topics\n",
    "    for ilink in ilinks:\n",
    "        dfCust = dataframe.loc[(dataframe.ILINK==ilink)]\n",
    "        if ~dfCust.empty:\n",
    "            N_u = dfCust.shape[0]#sum([f.getTotalFreq(dfCust,dept) for dept in depts])\n",
    "            #print ilink,N_u\n",
    "            fts = []\n",
    "            for dept in depts:\n",
    "                N = f.getTotalFreq(dfCust,dept)\n",
    "                n = f.getAvgFreqOrder(dfCust,dept)\n",
    "                O,Q,G,S,D = f.getTotalAmts(dfCust,dept)\n",
    "                o,q,g,s,d = f.getAvgAmtsOrder(dfCust,dept)\n",
    "                oi,qi,gi,si,di = f.getAvgAmtItem(dfCust,dept)\n",
    "                alpha = [N,n,S,s,si,D,d,di]\n",
    "                #alpha = [S,s,si,D,d,di]\n",
    "                #alpha = [N,S,s,si]\n",
    "                alpha = [0 if math.isnan(x) else x for x in alpha]\n",
    "                alpha1 = np.array(normalize(alpha))\n",
    "                sigma = UserSigma[ilink][dept]\n",
    "                #sigma = (N + alpha1)/(N_u + K*alpha1)\n",
    "                pref = np.dot(sigma,alpha1).round(2)\n",
    "                #print ilink,alpha\n",
    "                #print sigma\n",
    "                #print ''\n",
    "                fts.append(alpha+[pref])\n",
    "                #fts2.append(alpha)\n",
    "\n",
    "            \"\"\"u,s,vt = np.linalg.svd(fts2)\n",
    "            for i,row in enumerate(fts2):\n",
    "                fts2[i] = fts2[i] + [np.dot(u[i],vt[i]).round(3)]\"\"\"\n",
    "            row = [i for sub in fts for i in sub]\n",
    "            row.insert(0,ilink)\n",
    "            temp = pd.DataFrame([tuple(row)],columns=cols)\n",
    "            tab = pd.concat([tab,temp])\n",
    "    return tab"
   ]
  },
  {
   "cell_type": "markdown",
   "metadata": {},
   "source": [
    "## 1. First we get what Users pref for May-June"
   ]
  },
  {
   "cell_type": "code",
   "execution_count": 13,
   "metadata": {
    "collapsed": true
   },
   "outputs": [],
   "source": [
    "def getHigherPref(row):\n",
    "    ws = (row.R_ws,row.N_ws,row.S_ws)\n",
    "    kt = (row.R_kt,row.N_kt,row.S_kt)\n",
    "    d = (row.R_d,row.N_d,row.S_d)\n",
    "    p = (row.R_p,row.N_p,row.S_p)\n",
    "    R = {'Woven Shirts': ws, 'Knit Tops': kt, 'Dresses': d, 'Pants': p}\n",
    "    maxNum = 0.0\n",
    "    maxKey = []\n",
    "    #get those with highest rating first\n",
    "    for key,value in R.iteritems():\n",
    "        if value[0] > maxNum:\n",
    "            maxNum = value[0]\n",
    "            maxKey.append(key)\n",
    "        elif value[0] == maxNum and value[0] != 0:\n",
    "            maxKey.append(key)\n",
    "    \n",
    "    #if no purchases were made\n",
    "    if len(maxKey) == 0:\n",
    "        return 0\n",
    "    #if rating are equal, then look at freq purchased for pref\n",
    "    i = 1\n",
    "    while len(maxKey) != 1:\n",
    "        RTop = {x:R[x] for x in maxKey}\n",
    "        n = 0\n",
    "        maxKey = []\n",
    "        for key,value in RTop.iteritems():\n",
    "            #print value[i]\n",
    "            if value[i] > n:\n",
    "                n = value[i]\n",
    "                if len(maxKey)==0:\n",
    "                    maxKey.append(key)\n",
    "                else:\n",
    "                    maxKey.pop()\n",
    "                    maxKey.append(key)\n",
    "            elif value[i] == n and value[i] !=0:\n",
    "                maxKey.append(key)\n",
    "        #print maxKey,n\n",
    "        if len(maxKey) > 1:\n",
    "            i += 1\n",
    "            if i > 2:\n",
    "                return maxKey\n",
    "    return maxKey[0]"
   ]
  },
  {
   "cell_type": "code",
   "execution_count": 14,
   "metadata": {
    "collapsed": false
   },
   "outputs": [
    {
     "name": "stdout",
     "output_type": "stream",
     "text": [
      "0\n",
      "100\n",
      "200\n",
      "300\n",
      "400\n",
      "500\n",
      "600\n",
      "700\n",
      "800\n",
      "900\n",
      "CPU times: user 446 ms, sys: 16 ms, total: 462 ms\n",
      "Wall time: 531 ms\n"
     ]
    }
   ],
   "source": [
    "%%time\n",
    "Users = {'Woven Shirts': [],\n",
    "         'Knit Tops': [],\n",
    "         'Dresses': [],\n",
    "         'Pants': []}\n",
    "N=0\n",
    "for i,row in table.iterrows():\n",
    "    if N%100 == 0:\n",
    "        print N\n",
    "    N+=1\n",
    "    #print row.Ilink\n",
    "    key = getHigherPref(row)\n",
    "    if type(key) is list:\n",
    "        for x in key:\n",
    "            Users[x].append(row.Ilink)\n",
    "    elif key == 0:\n",
    "        pass\n",
    "    else:\n",
    "        Users[key].append(row.Ilink)"
   ]
  },
  {
   "cell_type": "code",
   "execution_count": 26,
   "metadata": {
    "collapsed": false
   },
   "outputs": [
    {
     "data": {
      "text/plain": [
       "272"
      ]
     },
     "execution_count": 26,
     "metadata": {},
     "output_type": "execute_result"
    }
   ],
   "source": [
    "#table.Ilink.tolist()\n",
    "#first exmaple will be pants\n",
    "dept = 'Pants'\n",
    "ilink_ex = Users[dept]\n",
    "len(Users[dept])"
   ]
  },
  {
   "cell_type": "markdown",
   "metadata": {},
   "source": [
    "## 2. Look at these Users in May-June"
   ]
  },
  {
   "cell_type": "code",
   "execution_count": 17,
   "metadata": {
    "collapsed": false
   },
   "outputs": [],
   "source": [
    "table2 = getTableRating(ilink_ex,df2)\n",
    "cols = ['N_ws','n_ws','S_ws','s_ws','si_ws','D_ws','d_ws','di_ws','R_ws',\n",
    "        'N_kt','n_kt','S_kt','s_kt','si_kt','D_kt','d_kt','di_kt','R_kt',\n",
    "        'N_d','n_d','S_d','s_d','si_d','D_d','d_d','di_d','R_d',\n",
    "        'N_p','n_p','S_p','s_p','si_p','D_p','d_p','di_p','R_p']\n",
    "table2 = table2.loc[~(table2[cols]==0).all(axis=1)]\n",
    "table2.reset_index(drop=True,inplace=True)"
   ]
  },
  {
   "cell_type": "code",
   "execution_count": 18,
   "metadata": {
    "collapsed": false,
    "scrolled": true
   },
   "outputs": [
    {
     "data": {
      "text/html": [
       "<div>\n",
       "<style scoped>\n",
       "    .dataframe tbody tr th:only-of-type {\n",
       "        vertical-align: middle;\n",
       "    }\n",
       "\n",
       "    .dataframe tbody tr th {\n",
       "        vertical-align: top;\n",
       "    }\n",
       "\n",
       "    .dataframe thead th {\n",
       "        text-align: right;\n",
       "    }\n",
       "</style>\n",
       "<table border=\"1\" class=\"dataframe\">\n",
       "  <thead>\n",
       "    <tr style=\"text-align: right;\">\n",
       "      <th></th>\n",
       "      <th>Ilink</th>\n",
       "      <th>N_ws</th>\n",
       "      <th>n_ws</th>\n",
       "      <th>S_ws</th>\n",
       "      <th>s_ws</th>\n",
       "      <th>si_ws</th>\n",
       "      <th>D_ws</th>\n",
       "      <th>d_ws</th>\n",
       "      <th>di_ws</th>\n",
       "      <th>R_ws</th>\n",
       "      <th>N_kt</th>\n",
       "      <th>n_kt</th>\n",
       "      <th>S_kt</th>\n",
       "      <th>s_kt</th>\n",
       "      <th>si_kt</th>\n",
       "      <th>D_kt</th>\n",
       "      <th>d_kt</th>\n",
       "      <th>di_kt</th>\n",
       "      <th>R_kt</th>\n",
       "      <th>N_d</th>\n",
       "      <th>n_d</th>\n",
       "      <th>S_d</th>\n",
       "      <th>s_d</th>\n",
       "      <th>si_d</th>\n",
       "      <th>D_d</th>\n",
       "      <th>d_d</th>\n",
       "      <th>di_d</th>\n",
       "      <th>R_d</th>\n",
       "      <th>N_p</th>\n",
       "      <th>n_p</th>\n",
       "      <th>S_p</th>\n",
       "      <th>s_p</th>\n",
       "      <th>si_p</th>\n",
       "      <th>D_p</th>\n",
       "      <th>d_p</th>\n",
       "      <th>di_p</th>\n",
       "      <th>R_p</th>\n",
       "    </tr>\n",
       "  </thead>\n",
       "  <tbody>\n",
       "    <tr>\n",
       "      <th>0</th>\n",
       "      <td>825</td>\n",
       "      <td>1</td>\n",
       "      <td>0.0</td>\n",
       "      <td>34.19</td>\n",
       "      <td>17.10</td>\n",
       "      <td>34.19</td>\n",
       "      <td>25.80</td>\n",
       "      <td>12.90</td>\n",
       "      <td>25.80</td>\n",
       "      <td>0.08</td>\n",
       "      <td>1</td>\n",
       "      <td>0.0</td>\n",
       "      <td>22.80</td>\n",
       "      <td>11.40</td>\n",
       "      <td>22.80</td>\n",
       "      <td>17.19</td>\n",
       "      <td>8.60</td>\n",
       "      <td>17.19</td>\n",
       "      <td>0.15</td>\n",
       "      <td>0</td>\n",
       "      <td>0.0</td>\n",
       "      <td>0.0</td>\n",
       "      <td>0.0</td>\n",
       "      <td>0</td>\n",
       "      <td>0.0</td>\n",
       "      <td>0.0</td>\n",
       "      <td>0</td>\n",
       "      <td>0</td>\n",
       "      <td>3</td>\n",
       "      <td>2.0</td>\n",
       "      <td>85.47</td>\n",
       "      <td>42.74</td>\n",
       "      <td>28.49</td>\n",
       "      <td>64.50</td>\n",
       "      <td>32.25</td>\n",
       "      <td>21.50</td>\n",
       "      <td>0.28</td>\n",
       "    </tr>\n",
       "    <tr>\n",
       "      <th>1</th>\n",
       "      <td>845</td>\n",
       "      <td>7</td>\n",
       "      <td>4.0</td>\n",
       "      <td>243.83</td>\n",
       "      <td>121.92</td>\n",
       "      <td>34.83</td>\n",
       "      <td>142.16</td>\n",
       "      <td>71.08</td>\n",
       "      <td>20.31</td>\n",
       "      <td>0.22</td>\n",
       "      <td>4</td>\n",
       "      <td>2.0</td>\n",
       "      <td>118.75</td>\n",
       "      <td>59.38</td>\n",
       "      <td>29.69</td>\n",
       "      <td>69.24</td>\n",
       "      <td>34.62</td>\n",
       "      <td>17.31</td>\n",
       "      <td>0.11</td>\n",
       "      <td>0</td>\n",
       "      <td>0.0</td>\n",
       "      <td>0.0</td>\n",
       "      <td>0.0</td>\n",
       "      <td>0</td>\n",
       "      <td>0.0</td>\n",
       "      <td>0.0</td>\n",
       "      <td>0</td>\n",
       "      <td>0</td>\n",
       "      <td>10</td>\n",
       "      <td>5.0</td>\n",
       "      <td>324.68</td>\n",
       "      <td>162.34</td>\n",
       "      <td>32.47</td>\n",
       "      <td>189.32</td>\n",
       "      <td>94.66</td>\n",
       "      <td>18.93</td>\n",
       "      <td>0.37</td>\n",
       "    </tr>\n",
       "    <tr>\n",
       "      <th>2</th>\n",
       "      <td>1009</td>\n",
       "      <td>1</td>\n",
       "      <td>1.0</td>\n",
       "      <td>37.49</td>\n",
       "      <td>37.49</td>\n",
       "      <td>37.49</td>\n",
       "      <td>12.50</td>\n",
       "      <td>12.50</td>\n",
       "      <td>12.50</td>\n",
       "      <td>0.25</td>\n",
       "      <td>0</td>\n",
       "      <td>0.0</td>\n",
       "      <td>0.00</td>\n",
       "      <td>0.00</td>\n",
       "      <td>0.00</td>\n",
       "      <td>0.00</td>\n",
       "      <td>0.00</td>\n",
       "      <td>0.00</td>\n",
       "      <td>0.00</td>\n",
       "      <td>0</td>\n",
       "      <td>0.0</td>\n",
       "      <td>0.0</td>\n",
       "      <td>0.0</td>\n",
       "      <td>0</td>\n",
       "      <td>0.0</td>\n",
       "      <td>0.0</td>\n",
       "      <td>0</td>\n",
       "      <td>0</td>\n",
       "      <td>3</td>\n",
       "      <td>3.0</td>\n",
       "      <td>110.25</td>\n",
       "      <td>110.25</td>\n",
       "      <td>36.75</td>\n",
       "      <td>96.75</td>\n",
       "      <td>96.75</td>\n",
       "      <td>32.25</td>\n",
       "      <td>0.36</td>\n",
       "    </tr>\n",
       "    <tr>\n",
       "      <th>3</th>\n",
       "      <td>1272</td>\n",
       "      <td>0</td>\n",
       "      <td>0.0</td>\n",
       "      <td>0.00</td>\n",
       "      <td>0.00</td>\n",
       "      <td>0.00</td>\n",
       "      <td>0.00</td>\n",
       "      <td>0.00</td>\n",
       "      <td>0.00</td>\n",
       "      <td>0.00</td>\n",
       "      <td>1</td>\n",
       "      <td>1.0</td>\n",
       "      <td>29.26</td>\n",
       "      <td>29.26</td>\n",
       "      <td>29.26</td>\n",
       "      <td>14.74</td>\n",
       "      <td>14.74</td>\n",
       "      <td>14.74</td>\n",
       "      <td>0.28</td>\n",
       "      <td>0</td>\n",
       "      <td>0.0</td>\n",
       "      <td>0.0</td>\n",
       "      <td>0.0</td>\n",
       "      <td>0</td>\n",
       "      <td>0.0</td>\n",
       "      <td>0.0</td>\n",
       "      <td>0</td>\n",
       "      <td>0</td>\n",
       "      <td>2</td>\n",
       "      <td>2.0</td>\n",
       "      <td>78.46</td>\n",
       "      <td>78.46</td>\n",
       "      <td>39.23</td>\n",
       "      <td>39.54</td>\n",
       "      <td>39.54</td>\n",
       "      <td>19.77</td>\n",
       "      <td>0.28</td>\n",
       "    </tr>\n",
       "    <tr>\n",
       "      <th>4</th>\n",
       "      <td>1426</td>\n",
       "      <td>2</td>\n",
       "      <td>1.0</td>\n",
       "      <td>111.71</td>\n",
       "      <td>55.86</td>\n",
       "      <td>55.86</td>\n",
       "      <td>56.29</td>\n",
       "      <td>28.14</td>\n",
       "      <td>28.14</td>\n",
       "      <td>0.27</td>\n",
       "      <td>1</td>\n",
       "      <td>0.0</td>\n",
       "      <td>45.88</td>\n",
       "      <td>22.94</td>\n",
       "      <td>45.88</td>\n",
       "      <td>23.12</td>\n",
       "      <td>11.56</td>\n",
       "      <td>23.12</td>\n",
       "      <td>0.14</td>\n",
       "      <td>0</td>\n",
       "      <td>0.0</td>\n",
       "      <td>0.0</td>\n",
       "      <td>0.0</td>\n",
       "      <td>0</td>\n",
       "      <td>0.0</td>\n",
       "      <td>0.0</td>\n",
       "      <td>0</td>\n",
       "      <td>0</td>\n",
       "      <td>2</td>\n",
       "      <td>1.0</td>\n",
       "      <td>111.71</td>\n",
       "      <td>55.86</td>\n",
       "      <td>55.86</td>\n",
       "      <td>56.29</td>\n",
       "      <td>28.14</td>\n",
       "      <td>28.14</td>\n",
       "      <td>0.27</td>\n",
       "    </tr>\n",
       "  </tbody>\n",
       "</table>\n",
       "</div>"
      ],
      "text/plain": [
       "  Ilink N_ws  n_ws    S_ws    s_ws  si_ws    D_ws   d_ws  di_ws  R_ws N_kt  n_kt    S_kt   s_kt  si_kt   D_kt   d_kt  di_kt  R_kt N_d  n_d  S_d  s_d si_d  D_d  d_d di_d R_d N_p  n_p     S_p     s_p   si_p     D_p    d_p   di_p   R_p\n",
       "0   825    1   0.0   34.19   17.10  34.19   25.80  12.90  25.80  0.08    1   0.0   22.80  11.40  22.80  17.19   8.60  17.19  0.15   0  0.0  0.0  0.0    0  0.0  0.0    0   0   3  2.0   85.47   42.74  28.49   64.50  32.25  21.50  0.28\n",
       "1   845    7   4.0  243.83  121.92  34.83  142.16  71.08  20.31  0.22    4   2.0  118.75  59.38  29.69  69.24  34.62  17.31  0.11   0  0.0  0.0  0.0    0  0.0  0.0    0   0  10  5.0  324.68  162.34  32.47  189.32  94.66  18.93  0.37\n",
       "2  1009    1   1.0   37.49   37.49  37.49   12.50  12.50  12.50  0.25    0   0.0    0.00   0.00   0.00   0.00   0.00   0.00  0.00   0  0.0  0.0  0.0    0  0.0  0.0    0   0   3  3.0  110.25  110.25  36.75   96.75  96.75  32.25  0.36\n",
       "3  1272    0   0.0    0.00    0.00   0.00    0.00   0.00   0.00  0.00    1   1.0   29.26  29.26  29.26  14.74  14.74  14.74  0.28   0  0.0  0.0  0.0    0  0.0  0.0    0   0   2  2.0   78.46   78.46  39.23   39.54  39.54  19.77  0.28\n",
       "4  1426    2   1.0  111.71   55.86  55.86   56.29  28.14  28.14  0.27    1   0.0   45.88  22.94  45.88  23.12  11.56  23.12  0.14   0  0.0  0.0  0.0    0  0.0  0.0    0   0   2  1.0  111.71   55.86  55.86   56.29  28.14  28.14  0.27"
      ]
     },
     "execution_count": 18,
     "metadata": {},
     "output_type": "execute_result"
    }
   ],
   "source": [
    "#table2.sort_values('R_p',ascending=False)\n",
    "table2.head()"
   ]
  },
  {
   "cell_type": "code",
   "execution_count": 21,
   "metadata": {
    "collapsed": false
   },
   "outputs": [
    {
     "data": {
      "text/plain": [
       "(257, 37)"
      ]
     },
     "execution_count": 21,
     "metadata": {},
     "output_type": "execute_result"
    }
   ],
   "source": [
    "table2.shape"
   ]
  },
  {
   "cell_type": "code",
   "execution_count": 20,
   "metadata": {
    "collapsed": false
   },
   "outputs": [
    {
     "name": "stdout",
     "output_type": "stream",
     "text": [
      "0\n",
      "100\n",
      "200\n"
     ]
    }
   ],
   "source": [
    "May_Users = {'Woven Shirts': [],\n",
    "         'Knit Tops': [],\n",
    "         'Dresses': [],\n",
    "         'Pants': []}\n",
    "N = 0\n",
    "for i,row in table2.iterrows():\n",
    "    if N%100 == 0:\n",
    "        print N\n",
    "    N+=1\n",
    "    #print row.Ilink\n",
    "    key = getHigherPref(row)\n",
    "    if type(key) is list:\n",
    "        for x in key:\n",
    "            May_Users[x].append(row.Ilink)\n",
    "    elif key == 0:\n",
    "        pass\n",
    "    else:\n",
    "        May_Users[key].append(row.Ilink)"
   ]
  },
  {
   "cell_type": "code",
   "execution_count": 23,
   "metadata": {
    "collapsed": false
   },
   "outputs": [
    {
     "data": {
      "text/plain": [
       "178"
      ]
     },
     "execution_count": 23,
     "metadata": {},
     "output_type": "execute_result"
    }
   ],
   "source": [
    "len(May_Users[dept])"
   ]
  },
  {
   "cell_type": "code",
   "execution_count": 61,
   "metadata": {
    "collapsed": false
   },
   "outputs": [
    {
     "name": "stdout",
     "output_type": "stream",
     "text": [
      "0.455056179775\n",
      "0.692607003891\n"
     ]
    }
   ],
   "source": [
    "deptN = len(May_Users[dept])\n",
    "not_deptN = len(May_Users['Dresses']) + len(May_Users['Knit Tops']) + len(May_Users['Woven Shirts'])\n",
    "print not_deptN*1.0/deptN\n",
    "print deptN*1.0/table2.shape[0]"
   ]
  },
  {
   "cell_type": "markdown",
   "metadata": {},
   "source": [
    "## 3. Look at June-July"
   ]
  },
  {
   "cell_type": "code",
   "execution_count": 32,
   "metadata": {
    "collapsed": true
   },
   "outputs": [],
   "source": [
    "table3 = getTableRating(ilink_ex,df3)\n",
    "cols = ['N_ws','n_ws','S_ws','s_ws','si_ws','D_ws','d_ws','di_ws','R_ws',\n",
    "        'N_kt','n_kt','S_kt','s_kt','si_kt','D_kt','d_kt','di_kt','R_kt',\n",
    "        'N_d','n_d','S_d','s_d','si_d','D_d','d_d','di_d','R_d',\n",
    "        'N_p','n_p','S_p','s_p','si_p','D_p','d_p','di_p','R_p']\n",
    "table3 = table3.loc[~(table3[cols]==0).all(axis=1)]\n",
    "table3.reset_index(drop=True,inplace=True)"
   ]
  },
  {
   "cell_type": "code",
   "execution_count": 33,
   "metadata": {
    "collapsed": false
   },
   "outputs": [
    {
     "data": {
      "text/plain": [
       "(254, 37)"
      ]
     },
     "execution_count": 33,
     "metadata": {},
     "output_type": "execute_result"
    }
   ],
   "source": [
    "table3.shape"
   ]
  },
  {
   "cell_type": "code",
   "execution_count": 34,
   "metadata": {
    "collapsed": false
   },
   "outputs": [
    {
     "name": "stdout",
     "output_type": "stream",
     "text": [
      "0\n",
      "100\n",
      "200\n"
     ]
    }
   ],
   "source": [
    "June_Users = {'Woven Shirts': [],\n",
    "         'Knit Tops': [],\n",
    "         'Dresses': [],\n",
    "         'Pants': []}\n",
    "N = 0\n",
    "for i,row in table3.iterrows():\n",
    "    if N%100 == 0:\n",
    "        print N\n",
    "    N+=1\n",
    "    #print row.Ilink\n",
    "    key = getHigherPref(row)\n",
    "    if type(key) is list:\n",
    "        for x in key:\n",
    "            June_Users[x].append(row.Ilink)\n",
    "    elif key == 0:\n",
    "        pass\n",
    "    else:\n",
    "        June_Users[key].append(row.Ilink)"
   ]
  },
  {
   "cell_type": "code",
   "execution_count": 35,
   "metadata": {
    "collapsed": false
   },
   "outputs": [
    {
     "data": {
      "text/plain": [
       "170"
      ]
     },
     "execution_count": 35,
     "metadata": {},
     "output_type": "execute_result"
    }
   ],
   "source": [
    "len(June_Users[dept])"
   ]
  },
  {
   "cell_type": "code",
   "execution_count": 60,
   "metadata": {
    "collapsed": false
   },
   "outputs": [
    {
     "name": "stdout",
     "output_type": "stream",
     "text": [
      "0.529411764706\n",
      "0.669291338583\n"
     ]
    }
   ],
   "source": [
    "deptN = len(June_Users[dept])\n",
    "not_deptN = len(June_Users['Dresses']) + len(June_Users['Knit Tops']) + len(June_Users['Woven Shirts'])\n",
    "print not_deptN*1.0/deptN\n",
    "print deptN*1.0/table3.shape[0]"
   ]
  },
  {
   "cell_type": "markdown",
   "metadata": {},
   "source": [
    "## 4. Look at July-Aug"
   ]
  },
  {
   "cell_type": "code",
   "execution_count": 37,
   "metadata": {
    "collapsed": false
   },
   "outputs": [
    {
     "name": "stderr",
     "output_type": "stream",
     "text": [
      "/Users/alexanderpan/anaconda/lib/python2.7/site-packages/numpy/core/fromnumeric.py:2957: RuntimeWarning: Mean of empty slice.\n",
      "  out=out, **kwargs)\n",
      "/Users/alexanderpan/anaconda/lib/python2.7/site-packages/numpy/core/_methods.py:80: RuntimeWarning: invalid value encountered in double_scalars\n",
      "  ret = ret.dtype.type(ret / rcount)\n"
     ]
    }
   ],
   "source": [
    "table4 = getTableRating(ilink_ex,df4)\n",
    "cols = ['N_ws','n_ws','S_ws','s_ws','si_ws','D_ws','d_ws','di_ws','R_ws',\n",
    "        'N_kt','n_kt','S_kt','s_kt','si_kt','D_kt','d_kt','di_kt','R_kt',\n",
    "        'N_d','n_d','S_d','s_d','si_d','D_d','d_d','di_d','R_d',\n",
    "        'N_p','n_p','S_p','s_p','si_p','D_p','d_p','di_p','R_p']\n",
    "table4 = table4.loc[~(table4[cols]==0).all(axis=1)]\n",
    "table4.reset_index(drop=True,inplace=True)"
   ]
  },
  {
   "cell_type": "code",
   "execution_count": 52,
   "metadata": {
    "collapsed": false
   },
   "outputs": [
    {
     "data": {
      "text/plain": [
       "(145, 37)"
      ]
     },
     "execution_count": 52,
     "metadata": {},
     "output_type": "execute_result"
    }
   ],
   "source": [
    "table4.shape"
   ]
  },
  {
   "cell_type": "code",
   "execution_count": 53,
   "metadata": {
    "collapsed": false
   },
   "outputs": [
    {
     "name": "stdout",
     "output_type": "stream",
     "text": [
      "0\n",
      "100\n"
     ]
    }
   ],
   "source": [
    "July_Users = {'Woven Shirts': [],\n",
    "         'Knit Tops': [],\n",
    "         'Dresses': [],\n",
    "         'Pants': []}\n",
    "N = 0\n",
    "for i,row in table4.iterrows():\n",
    "    if N%100 == 0:\n",
    "        print N\n",
    "    N+=1\n",
    "    #print row.Ilink\n",
    "    key = getHigherPref(row)\n",
    "    if type(key) is list:\n",
    "        for x in key:\n",
    "            July_Users[x].append(row.Ilink)\n",
    "    elif key == 0:\n",
    "        pass\n",
    "    else:\n",
    "        July_Users[key].append(row.Ilink)"
   ]
  },
  {
   "cell_type": "code",
   "execution_count": 54,
   "metadata": {
    "collapsed": false
   },
   "outputs": [
    {
     "data": {
      "text/plain": [
       "91"
      ]
     },
     "execution_count": 54,
     "metadata": {},
     "output_type": "execute_result"
    }
   ],
   "source": [
    "len(July_Users[dept])"
   ]
  },
  {
   "cell_type": "code",
   "execution_count": 58,
   "metadata": {
    "collapsed": false
   },
   "outputs": [
    {
     "name": "stdout",
     "output_type": "stream",
     "text": [
      "0.615384615385\n",
      "0.627586206897\n"
     ]
    }
   ],
   "source": [
    "deptN = len(July_Users[dept])\n",
    "not_deptN = len(July_Users['Dresses']) + len(July_Users['Knit Tops']) + len(July_Users['Woven Shirts'])\n",
    "print not_deptN*1.0/deptN\n",
    "print deptN*1.0/table4.shape[0]"
   ]
  },
  {
   "cell_type": "code",
   "execution_count": null,
   "metadata": {
    "collapsed": true
   },
   "outputs": [],
   "source": []
  }
 ],
 "metadata": {
  "kernelspec": {
   "display_name": "Python [Root]",
   "language": "python",
   "name": "Python [Root]"
  },
  "language_info": {
   "codemirror_mode": {
    "name": "ipython",
    "version": 2
   },
   "file_extension": ".py",
   "mimetype": "text/x-python",
   "name": "python",
   "nbconvert_exporter": "python",
   "pygments_lexer": "ipython2",
   "version": "2.7.12"
  }
 },
 "nbformat": 4,
 "nbformat_minor": 2
}
